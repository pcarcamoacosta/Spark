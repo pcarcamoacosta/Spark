{
 "cells": [
  {
   "cell_type": "markdown",
   "metadata": {},
   "source": [
    "# Group Assigment: G\n",
    "### The Effect of Christmas on Flights\n",
    "\n",
    "Alejandro Barrero, Patricia Cárcamo Acosta, Amala Eggers,  Luis Miguel Gallegos, Anna Koenig, Francisco Vigo"
   ]
  },
  {
   "cell_type": "code",
   "execution_count": 1,
   "metadata": {},
   "outputs": [],
   "source": [
    "import findspark\n",
    "findspark.init()"
   ]
  },
  {
   "cell_type": "code",
   "execution_count": 2,
   "metadata": {},
   "outputs": [
    {
     "data": {
      "text/plain": [
       "'/opt/spark-2.4.4-bin-hadoop2.7'"
      ]
     },
     "execution_count": 2,
     "metadata": {},
     "output_type": "execute_result"
    }
   ],
   "source": [
    "findspark.find()\n",
    "import pyspark\n",
    "findspark.find()"
   ]
  },
  {
   "cell_type": "code",
   "execution_count": 3,
   "metadata": {},
   "outputs": [],
   "source": [
    "from pyspark import SparkContext, SparkConf\n",
    "from IPython.display import display, Markdown\n",
    "from pyspark.sql import SparkSession\n",
    "import pyspark.sql.functions as F\n",
    "from pyspark.sql.types import IntegerType\n",
    "\n",
    "conf = pyspark.SparkConf().setAppName('appName').setMaster('local[4]')\n",
    "sc = pyspark.SparkContext(conf=conf)\n",
    "spark = SparkSession(sc)"
   ]
  },
  {
   "cell_type": "markdown",
   "metadata": {},
   "source": [
    "## Introduction to the Flights dataset"
   ]
  },
  {
   "cell_type": "markdown",
   "metadata": {},
   "source": [
    "According to a 2010 report made by the US Federal Aviation Administration, the economic price of domestic flight delays entails a yearly cost of 32.9 billion dollars to passengers, airlines and other parts of the economy. More than half of that amount comes from passengers' pockets, as they do not only waste time waiting for their planes to leave, but also miss connecting flights, spend money on food and have to sleep on hotel rooms while they're stranded.\n",
    "\n",
    "The report, focusing on data from year 2007, estimated that air transportation delays put a 4 billion dollar dent in the country's gross domestic product that year. Full report can be found \n",
    "<a href=\"http://www.isr.umd.edu/NEXTOR/pubs/TDI_Report_Final_10_18_10_V3.pdf\">here</a>.\n",
    "\n",
    "But which are the causes for these delays?\n",
    "\n",
    "In order to answer this question, we are going to analyze the provided dataset, containing up to 1.936.758 different internal flights in the US for 2008 and their causes for delay, diversion and cancellation; if any.\n",
    "\n",
    "The data comes from the U.S. Department of Transportation's (DOT) Bureau of Transportation Statistics (BTS)\n",
    "\n",
    "When initially downloading the December 2007 an comparing it with the January 2008 fligths dataset we previously worked with in class, we uncovered that there was a significant imbalance of the datasets. The January dataset only had 100,000 observations in comparison to 616,000 observations of the December 2007 dataset. Hence, we opted to download both datasets for December 2007 and January 2008 to complete our analysis.  The following are the features contained in our datasets:\n",
    "\n",
    "1. **YEAR** 2007, 2008\n",
    "2. **MONTH** 12, 1\n",
    "3. **DAY_OF_MONTH** 1-31\n",
    "4. **DAY_OF_WEEK** 1 (Monday) - 7 (Sunday)\n",
    "5. **ORIGIN** origin IATA airport code\n",
    "6. **DEST** destination IATA airport code\n",
    "7. **DEP_DELAY** departure delay, in minutes\n",
    "8. **DEP_DELAY_NEW** departure delay, in minutes\n",
    "9. **DEP_DEL15** boolean representing 1 if departing flight was delayed over 15 minutes and 0 if it was not\n",
    "10. **ARR_DELAY** arrival delay, in minutes: A flight is counted as \"on time\" if it operated less than 15 minutes later the scheduled time shown \n",
    "11. **ARR_DEL15** boolean representing 1 if arriving flight was delayed over 15 minutes and 0 if it was not \n",
    "12. **CANCELLED** *was the flight cancelled\n",
    "13. **CANCELLATION_CODE** reason for cancellation (A = carrier, B = weather, C = NAS, D = security)\n",
    "14. **DIVERTED** 1 = yes, 0 = no\n",
    "15. **CARRIER_DELAY** in minutes: Carrier delay is within the control of the air carrier. Examples of occurrences that may determine carrier delay are: aircraft cleaning, aircraft damage, awaiting the arrival of connecting passengers or crew, baggage, bird strike, cargo loading, catering, computer, outage-carrier equipment, crew legality (pilot or attendant rest), damage by hazardous goods, engineering inspection, fueling, handling disabled passengers, late crew, lavatory servicing, maintenance, oversales, potable water servicing, removal of unruly passenger, slow boarding or seating, stowing carry-on baggage, weight and balance delays.\n",
    "16. **WEATHER_DELAY** in minutes: Weather delay is caused by extreme or hazardous weather conditions that are forecasted or manifest themselves on point of departure, enroute, or on point of arrival.\n",
    "17. **NAS_DELAY** in minutes: Delay that is within the control of the National Airspace System (NAS) may include: non-extreme weather conditions, airport operations, heavy traffic volume, air traffic control, etc.\n",
    "18. **SECURITY_DELAY** in minutes: Security delay is caused by evacuation of a terminal or concourse, re-boarding of aircraft because of security breach, inoperative screening equipment and/or long lines in excess of 29 minutes at screening areas.\n",
    "19. **LATE_AIRCRAFT_DELAY** in minutes: Arrival delay at an airport due to the late arrival of the same aircraft at a previous airport. The ripple effect of an earlier delay at downstream airports is referred to as delay propagation\n",
    "20. **_c19** field automatically generated at data download. not used in the analysis"
   ]
  },
  {
   "cell_type": "markdown",
   "metadata": {},
   "source": [
    "***\n",
    "\n",
    "### Reading Data\n",
    "\n",
    "We will be working with the flights datasets for December 2007 and January 2008 for our analysis on flight delays during the Holiday Season. First we will import the data and inspect the schema. "
   ]
  },
  {
   "cell_type": "code",
   "execution_count": 4,
   "metadata": {
    "scrolled": false
   },
   "outputs": [
    {
     "name": "stdout",
     "output_type": "stream",
     "text": [
      "root\n",
      " |-- YEAR: integer (nullable = true)\n",
      " |-- MONTH: integer (nullable = true)\n",
      " |-- DAY_OF_MONTH: integer (nullable = true)\n",
      " |-- DAY_OF_WEEK: integer (nullable = true)\n",
      " |-- ORIGIN: string (nullable = true)\n",
      " |-- DEST: string (nullable = true)\n",
      " |-- DEP_DELAY: double (nullable = true)\n",
      " |-- DEP_DELAY_NEW: double (nullable = true)\n",
      " |-- DEP_DEL15: double (nullable = true)\n",
      " |-- ARR_DELAY: double (nullable = true)\n",
      " |-- ARR_DEL15: double (nullable = true)\n",
      " |-- CANCELLED: double (nullable = true)\n",
      " |-- CANCELLATION_CODE: string (nullable = true)\n",
      " |-- DIVERTED: double (nullable = true)\n",
      " |-- CARRIER_DELAY: double (nullable = true)\n",
      " |-- WEATHER_DELAY: double (nullable = true)\n",
      " |-- NAS_DELAY: double (nullable = true)\n",
      " |-- SECURITY_DELAY: double (nullable = true)\n",
      " |-- LATE_AIRCRAFT_DELAY: double (nullable = true)\n",
      " |-- _c19: string (nullable = true)\n",
      "\n",
      "root\n",
      " |-- YEAR: integer (nullable = true)\n",
      " |-- MONTH: integer (nullable = true)\n",
      " |-- DAY_OF_MONTH: integer (nullable = true)\n",
      " |-- DAY_OF_WEEK: integer (nullable = true)\n",
      " |-- ORIGIN: string (nullable = true)\n",
      " |-- DEST: string (nullable = true)\n",
      " |-- DEP_DELAY: double (nullable = true)\n",
      " |-- DEP_DELAY_NEW: double (nullable = true)\n",
      " |-- DEP_DEL15: double (nullable = true)\n",
      " |-- ARR_DELAY: double (nullable = true)\n",
      " |-- ARR_DEL15: double (nullable = true)\n",
      " |-- CANCELLED: double (nullable = true)\n",
      " |-- CANCELLATION_CODE: string (nullable = true)\n",
      " |-- DIVERTED: double (nullable = true)\n",
      " |-- CARRIER_DELAY: double (nullable = true)\n",
      " |-- WEATHER_DELAY: double (nullable = true)\n",
      " |-- NAS_DELAY: double (nullable = true)\n",
      " |-- SECURITY_DELAY: double (nullable = true)\n",
      " |-- LATE_AIRCRAFT_DELAY: double (nullable = true)\n",
      " |-- _c19: string (nullable = true)\n",
      "\n"
     ]
    },
    {
     "data": {
      "text/markdown": [
       "The January 2008 DataFrame has **605765 rows**."
      ],
      "text/plain": [
       "<IPython.core.display.Markdown object>"
      ]
     },
     "metadata": {},
     "output_type": "display_data"
    },
    {
     "data": {
      "text/markdown": [
       "The December 2007 DataFrame has **616382 rows**."
      ],
      "text/plain": [
       "<IPython.core.display.Markdown object>"
      ]
     },
     "metadata": {},
     "output_type": "display_data"
    }
   ],
   "source": [
    "flightsJan08 = spark.read\\\n",
    "                 .option(\"header\", \"true\")\\\n",
    "                 .option(\"inferSchema\", \"true\")\\\n",
    "                 .csv(\"Jan08.csv\")\n",
    "\n",
    "flightsDec07 = spark.read\\\n",
    "                .option(\"header\", \"true\")\\\n",
    "                .option(\"inferSchema\", \"true\")\\\n",
    "                .csv(\"Dec07.csv\")\n",
    "\n",
    "flightsJan08.printSchema()\n",
    "\n",
    "flightsDec07.printSchema()\n",
    "\n",
    "display(Markdown(\"The January 2008 DataFrame has **%d rows**.\" % flightsJan08.count()))\n",
    "display(Markdown(\"The December 2007 DataFrame has **%d rows**.\" % flightsDec07.count()))"
   ]
  },
  {
   "cell_type": "markdown",
   "metadata": {},
   "source": [
    "***\n",
    "\n",
    "## Joining Datasets\n",
    "\n",
    "Now, we will select the features that we are interested in analyzing and join the datasets. We inspect the new schema and the first 5 observations. The joint dataset has 1,222,147 rows! "
   ]
  },
  {
   "cell_type": "code",
   "execution_count": 5,
   "metadata": {
    "scrolled": false
   },
   "outputs": [
    {
     "name": "stdout",
     "output_type": "stream",
     "text": [
      "root\n",
      " |-- YEAR: integer (nullable = true)\n",
      " |-- MONTH: integer (nullable = true)\n",
      " |-- DAY_OF_MONTH: integer (nullable = true)\n",
      " |-- DAY_OF_WEEK: integer (nullable = true)\n",
      " |-- ORIGIN: string (nullable = true)\n",
      " |-- DEST: string (nullable = true)\n",
      " |-- DEP_DELAY: double (nullable = true)\n",
      " |-- DEP_DELAY_NEW: double (nullable = true)\n",
      " |-- DEP_DEL15: double (nullable = true)\n",
      " |-- ARR_DELAY: double (nullable = true)\n",
      " |-- ARR_DEL15: double (nullable = true)\n",
      " |-- CANCELLED: double (nullable = true)\n",
      " |-- CANCELLATION_CODE: string (nullable = true)\n",
      " |-- DIVERTED: double (nullable = true)\n",
      " |-- CARRIER_DELAY: double (nullable = true)\n",
      " |-- WEATHER_DELAY: double (nullable = true)\n",
      " |-- NAS_DELAY: double (nullable = true)\n",
      " |-- SECURITY_DELAY: double (nullable = true)\n",
      " |-- LATE_AIRCRAFT_DELAY: double (nullable = true)\n",
      " |-- _c19: string (nullable = true)\n",
      "\n",
      "+----+-----+------------+-----------+------+----+---------+-------------+---------+---------+---------+---------+-----------------+--------+-------------+-------------+---------+--------------+-------------------+----+\n",
      "|YEAR|MONTH|DAY_OF_MONTH|DAY_OF_WEEK|ORIGIN|DEST|DEP_DELAY|DEP_DELAY_NEW|DEP_DEL15|ARR_DELAY|ARR_DEL15|CANCELLED|CANCELLATION_CODE|DIVERTED|CARRIER_DELAY|WEATHER_DELAY|NAS_DELAY|SECURITY_DELAY|LATE_AIRCRAFT_DELAY|_c19|\n",
      "+----+-----+------------+-----------+------+----+---------+-------------+---------+---------+---------+---------+-----------------+--------+-------------+-------------+---------+--------------+-------------------+----+\n",
      "|2007|   12|          31|          1|   ROC| ORD|     -6.0|          0.0|      0.0|      4.0|      0.0|      0.0|             null|     0.0|         null|         null|     null|          null|               null|null|\n",
      "|2007|   12|           1|          6|   SYR| ORD|     null|         null|     null|     null|     null|      1.0|                B|     0.0|         null|         null|     null|          null|               null|null|\n",
      "|2007|   12|           2|          7|   SYR| ORD|     -2.0|          0.0|      0.0|     31.0|      1.0|      0.0|             null|     0.0|          0.0|          0.0|     31.0|           0.0|                0.0|null|\n",
      "|2007|   12|           3|          1|   SYR| ORD|     10.0|         10.0|      0.0|     38.0|      1.0|      0.0|             null|     0.0|          5.0|          0.0|     28.0|           0.0|                5.0|null|\n",
      "|2007|   12|           4|          2|   SYR| ORD|     20.0|         20.0|      1.0|     39.0|      1.0|      0.0|             null|     0.0|          0.0|          0.0|     19.0|           0.0|               20.0|null|\n",
      "+----+-----+------------+-----------+------+----+---------+-------------+---------+---------+---------+---------+-----------------+--------+-------------+-------------+---------+--------------+-------------------+----+\n",
      "only showing top 5 rows\n",
      "\n"
     ]
    },
    {
     "data": {
      "text/markdown": [
       "The joint flights DataFrame has **1222147** rows."
      ],
      "text/plain": [
       "<IPython.core.display.Markdown object>"
      ]
     },
     "metadata": {},
     "output_type": "display_data"
    }
   ],
   "source": [
    "flights = flightsDec07.union(flightsJan08)\n",
    "\n",
    "flights.printSchema()\n",
    "flights.show(5)\n",
    "\n",
    "display(Markdown(\"The joint flights DataFrame has **%d** rows.\" % flights.count()))"
   ]
  },
  {
   "cell_type": "markdown",
   "metadata": {},
   "source": [
    "***\n",
    "\n",
    "### Inspect Null Values\n",
    "Our dataset contains Null Values in the features DEP_DELAY, DEP_DELAY_NEW, DEP_DEL15, ARR_DELAY, ARR_DEL15, CANCELLATION_CODE, CARRIER_DELAY, WEATHER_DELAY, NAS_DELAY, SECURITY_DELAY, LATE_AIRCRAFT_DELAY. We will see if these values actually represent flights with no delays or if they are real missing values from flight delay data."
   ]
  },
  {
   "cell_type": "code",
   "execution_count": 6,
   "metadata": {},
   "outputs": [
    {
     "name": "stdout",
     "output_type": "stream",
     "text": [
      "+----+-----+------------+-----------+\n",
      "|YEAR|MONTH|DAY_OF_MONTH|DAY_OF_WEEK|\n",
      "+----+-----+------------+-----------+\n",
      "|   0|    0|           0|          0|\n",
      "+----+-----+------------+-----------+\n",
      "\n",
      "+------+----+---------+-------------+---------+---------+---------+\n",
      "|ORIGIN|DEST|DEP_DELAY|DEP_DELAY_NEW|DEP_DEL15|ARR_DELAY|ARR_DEL15|\n",
      "+------+----+---------+-------------+---------+---------+---------+\n",
      "|     0|   0|    38862|        38862|    38862|    41707|    41707|\n",
      "+------+----+---------+-------------+---------+---------+---------+\n",
      "\n",
      "+---------+-----------------+--------+-------------+-------------+---------+--------------+-------------------+\n",
      "|CANCELLED|CANCELLATION_CODE|DIVERTED|CARRIER_DELAY|WEATHER_DELAY|NAS_DELAY|SECURITY_DELAY|LATE_AIRCRAFT_DELAY|\n",
      "+---------+-----------------+--------+-------------+-------------+---------+--------------+-------------------+\n",
      "|        0|          1183284|       0|       876581|       876581|   876581|        876581|             876581|\n",
      "+---------+-----------------+--------+-------------+-------------+---------+--------------+-------------------+\n",
      "\n"
     ]
    }
   ],
   "source": [
    "#check nulls in date time columns, carrier columns, and delay information columns\n",
    "flights.select([F.count(F.when(F.col(c).isNull(), c)).alias(c) \\\n",
    "                for c in ['YEAR','MONTH', 'DAY_OF_MONTH', 'DAY_OF_WEEK']]).show()\n",
    "\n",
    "flights.select([F.count(F.when(F.col(c).isNull(), c)).alias(c) \\\n",
    "                for c in ['ORIGIN', 'DEST', 'DEP_DELAY', 'DEP_DELAY_NEW',\n",
    "                          'DEP_DEL15', 'ARR_DELAY', 'ARR_DEL15']]).show()\n",
    "\n",
    "flights.select([F.count(F.when(F.col(c).isNull(), c)).alias(c) \\\n",
    "                for c in ['CANCELLED', 'CANCELLATION_CODE', 'DIVERTED',\n",
    "                          'CARRIER_DELAY', 'WEATHER_DELAY', 'NAS_DELAY',\n",
    "                          'SECURITY_DELAY', 'LATE_AIRCRAFT_DELAY']]).show()"
   ]
  },
  {
   "cell_type": "markdown",
   "metadata": {},
   "source": [
    "\n",
    "## Your topic: the effect of Christmas"
   ]
  },
  {
   "cell_type": "markdown",
   "metadata": {},
   "source": [
    "We want to check the different kinds of delays (at origin, due to weather, security, NAS, etc) and which airports are more prone to each of those. For that purpose, **you have to get the Flights dataset for December 2007**, having the same columns as the one you already have from January 2008. Make sure you get it from the right source so that the data are correct and comparable. You will use the January 2008 dataset as a baseline of the flights patterns in a normal month, and compare it with the patterns that show up in December (specially the last two weeks of the year). **Your answers should be restricted to four airports only: LAX (Los Angeles), SEA (Seattle-Tacoma), JFK (New York) and IAD (Washington)**. Once you have it, answer the following questions:\n",
    "\n",
    "* Search for the day of the week of December the 24th and December the 31th 2007, and *count* the number of flights arriving  and departing to/from each airport. Compare it with the **average** number of flights arriving to each of those airports on the same day of the week during January 2008. How different was it? (Hint: January 2008 should have 3 or 4 weeks containing that day of the week, e.g. three Tuesdays, or three Wednesdays, etc, excluding New Year's Eve. Compute the average of them).\n",
    "* Do you observe the same perceptual increase in the four airports, or is there an airport where the increase is much sharper than the others?\n",
    "* What about the average arrival delay and departure delay? Repeat the analysis for both metrics (average delay of all the flights arriving on Dec 24, then average delay of flights arriving on Dec 31, and compare each of those averages with the average of the correspoding day of the week during the full month of January 2008).\n",
    "* Do the same for December 25, 2007 and January 1, 2008. Search for the exact day of the week, and compare it with the average of the same day of the weeks of January 2008. Do you see the same increase or is it less sharp? Support your answer with data.\n",
    "\n",
    "What insights can you provide after interpreting the results?\n",
    "\n",
    "**HINT**: you can start [here](https://www.transtats.bts.gov/Fields.asp?Table_ID=236) to get the dataset. Click on `Data Tables` on top of the page and search for the period you want."
   ]
  },
  {
   "cell_type": "markdown",
   "metadata": {},
   "source": [
    "Your answers should be restricted to four airports only: LAX (Los Angeles), SEA (Seattle-Tacoma), JFK (New York) and IAD (Washington)."
   ]
  },
  {
   "cell_type": "markdown",
   "metadata": {},
   "source": [
    "***\n",
    "\n",
    "### Filter Airports of Interest : LAX, SEA, JFK, IAD\n",
    "\n",
    "We will filter our main dataset and create separate datasets for Arrivals and Departures where our airports of interest - LAX, SEA, JFK, and IAD - are the Destination and Origin respectively. These are the datasets we will be working with. "
   ]
  },
  {
   "cell_type": "code",
   "execution_count": 7,
   "metadata": {},
   "outputs": [],
   "source": [
    "Arrivals = flights\\\n",
    "                .filter(flights.DEST.isin(['LAX', 'SEA', 'JFK', 'IAD']))\\\n",
    "                .cache()\n",
    "\n",
    "Departures = flights\\\n",
    "                .filter(flights.ORIGIN.isin(['LAX', 'SEA', 'JFK', 'IAD']))\\\n",
    "                .cache()"
   ]
  },
  {
   "cell_type": "code",
   "execution_count": 8,
   "metadata": {},
   "outputs": [],
   "source": [
    "Arrivals2007 = Arrivals\\\n",
    "                .filter(\"YEAR==2007\")\n",
    "\n",
    "Arrivals2008 = Arrivals\\\n",
    "                .filter(\"YEAR==2008\")\n",
    "\n",
    "ArrDelay2007 = Arrivals\\\n",
    "                .filter(\"ARR_DEL15==1\")\\\n",
    "                .filter(\"YEAR==2007\")\n",
    "\n",
    "ArrDelay2008 = Arrivals\\\n",
    "                .filter(\"ARR_DEL15==1\")\\\n",
    "                .filter(\"YEAR==2008\")\n",
    "\n",
    "Departures2007 = Departures\\\n",
    "                .filter(\"YEAR==2007\")\n",
    "\n",
    "Departures2008 = Departures\\\n",
    "                .filter(\"YEAR==2008\")\n",
    "\n",
    "DepDelay2007 = Departures\\\n",
    "                .filter(\"DEP_DEL15==1\")\\\n",
    "                .filter(\"YEAR==2007\")\n",
    "\n",
    "DepDelay2008 = Departures\\\n",
    "                .filter(\"DEP_DEL15==1\")\\\n",
    "                .filter(\"YEAR==2008\")"
   ]
  },
  {
   "cell_type": "markdown",
   "metadata": {},
   "source": [
    "***\n",
    "\n",
    "### Flight Totals December 2007 - January 2008\n",
    "\n",
    "Our analysis will examine the overall number of flights departing from and arriving to LAX, SEA, JFK, and IAD in December 2007 and January 2008. \n",
    "We discover that there are over 2,300 more flights arriving and departing from these airports in December 2007 than in January 2008. We will analyze arrivals and departures for both months paying special attention to the busiest travel dates and examining the impact of holidays on December 24, 25, 31 and January 1st. "
   ]
  },
  {
   "cell_type": "code",
   "execution_count": 9,
   "metadata": {},
   "outputs": [
    {
     "name": "stdout",
     "output_type": "stream",
     "text": [
      "Total arrivals for December 2007 and January 2008:\n",
      "+----+-----+-----+\n",
      "|YEAR|MONTH|count|\n",
      "+----+-----+-----+\n",
      "|2008|    1|44334|\n",
      "|2007|   12|46651|\n",
      "+----+-----+-----+\n",
      "\n",
      "Total departures for December 2007 and January 2008:\n",
      "+----+-----+-----+\n",
      "|YEAR|MONTH|count|\n",
      "+----+-----+-----+\n",
      "|2008|    1|44297|\n",
      "|2007|   12|46660|\n",
      "+----+-----+-----+\n",
      "\n"
     ]
    },
    {
     "data": {
      "text/markdown": [
       "The difference in arrivals between December 2007 and January 2008 is **2317**"
      ],
      "text/plain": [
       "<IPython.core.display.Markdown object>"
      ]
     },
     "metadata": {},
     "output_type": "display_data"
    },
    {
     "data": {
      "text/markdown": [
       "The difference in departures between December 2007 and January 2008 is **2363**"
      ],
      "text/plain": [
       "<IPython.core.display.Markdown object>"
      ]
     },
     "metadata": {},
     "output_type": "display_data"
    }
   ],
   "source": [
    "print(\"Total arrivals for December 2007 and January 2008:\")\n",
    "Arrivals.select(\"YEAR\",\"MONTH\",\"DEST\")\\\n",
    "        .groupBy(\"YEAR\",\"MONTH\")\\\n",
    "        .count()\\\n",
    "        .show()\n",
    "\n",
    "print(\"Total departures for December 2007 and January 2008:\")\n",
    "Departures.select(\"YEAR\",\"MONTH\",\"ORIGIN\")\\\n",
    "          .groupBy(\"YEAR\",\"MONTH\")\\\n",
    "          .count()\\\n",
    "          .show()\n",
    "\n",
    "ArrivalDifference = Arrivals2007.count() - Arrivals2008.count()\n",
    "DepartureDifference = Departures2007.count() - Departures2008.count()\n",
    "\n",
    "display(Markdown(\"The difference in arrivals between December 2007 and January 2008 is **%d**\" % ArrivalDifference))\n",
    "display(Markdown(\"The difference in departures between December 2007 and January 2008 is **%d**\" % DepartureDifference))"
   ]
  },
  {
   "cell_type": "markdown",
   "metadata": {},
   "source": [
    "***\n",
    "\n",
    "## Arrivals\n"
   ]
  },
  {
   "cell_type": "code",
   "execution_count": 10,
   "metadata": {
    "scrolled": false
   },
   "outputs": [
    {
     "name": "stdout",
     "output_type": "stream",
     "text": [
      "Total arrivals for December 2007 and January 2008 for each airport:\n",
      "+----+-----+-----+--------------+\n",
      "|DEST| 2007| 2008|PercDifference|\n",
      "+----+-----+-----+--------------+\n",
      "| LAX|20222|18964|         -6.22|\n",
      "| JFK|10613|10039|         -5.41|\n",
      "| SEA| 8910| 8539|         -4.16|\n",
      "| IAD| 6906| 6792|         -1.65|\n",
      "+----+-----+-----+--------------+\n",
      "\n",
      "Total arrivals for the busiest days:\n",
      "+------------+----+----+--------------+\n",
      "|DAY_OF_MONTH|2007|2008|PercDifference|\n",
      "+------------+----+----+--------------+\n",
      "|          21|1585|1448|         -8.64|\n",
      "|          28|1584|1442|         -8.96|\n",
      "|          20|1579|1369|         -13.3|\n",
      "|          26|1579|1269|        -19.63|\n",
      "|          27|1576|1372|        -12.94|\n",
      "|          19|1570|1272|        -18.98|\n",
      "|          14|1550|1449|         -6.52|\n",
      "+------------+----+----+--------------+\n",
      "only showing top 7 rows\n",
      "\n",
      "Flight arrivals by airport for the busiest days Dec 28 and Dec 21:\n",
      "+----+------------+----+----+--------------+\n",
      "|DEST|DAY_OF_MONTH|2007|2008|PercDifference|\n",
      "+----+------------+----+----+--------------+\n",
      "| LAX|          28| 686| 621|         -9.48|\n",
      "| LAX|          21| 686| 621|         -9.48|\n",
      "| JFK|          28| 365| 325|        -10.96|\n",
      "| JFK|          21| 365| 328|        -10.14|\n",
      "| SEA|          28| 299| 276|         -7.69|\n",
      "| SEA|          21| 298| 277|         -7.05|\n",
      "| IAD|          21| 236| 222|         -5.93|\n",
      "| IAD|          28| 234| 220|         -5.98|\n",
      "+----+------------+----+----+--------------+\n",
      "\n"
     ]
    }
   ],
   "source": [
    "print(\"Total arrivals for December 2007 and January 2008 for each airport:\")\n",
    "Arrivals.select(\"YEAR\",\"DEST\")\\\n",
    "        .groupBy(\"DEST\")\\\n",
    "        .pivot(\"YEAR\")\\\n",
    "        .count()\\\n",
    "        .withColumn(\"PercDifference\", F.round(((F.col(\"2008\")-F.col(\"2007\"))/F.col(\"2007\")*100),2))\\\n",
    "        .sort(F.col(\"2007\").desc())\\\n",
    "        .show(4)\n",
    "\n",
    "print(\"Total arrivals for the busiest days:\")\n",
    "Arrivals.select(\"YEAR\",\"DAY_OF_MONTH\")\\\n",
    "        .groupBy(\"DAY_OF_MONTH\")\\\n",
    "        .pivot(\"YEAR\")\\\n",
    "        .count()\\\n",
    "        .withColumn(\"PercDifference\", F.round(((F.col(\"2008\")-F.col(\"2007\"))/F.col(\"2007\")*100),2))\\\n",
    "        .sort(F.col(\"2007\").desc())\\\n",
    "        .show(7)\n",
    "\n",
    "print(\"Flight arrivals by airport for the busiest days Dec 28 and Dec 21:\")\n",
    "Arrivals.filter(\"DAY_OF_MONTH==21 OR DAY_OF_MONTH==28\")\\\n",
    "        .select(\"YEAR\",\"DEST\",\"DAY_OF_MONTH\")\\\n",
    "        .groupBy(\"DEST\",\"DAY_OF_MONTH\")\\\n",
    "        .pivot(\"YEAR\")\\\n",
    "        .count()\\\n",
    "        .withColumn(\"PercDifference\", F.round(((F.col(\"2008\")-F.col(\"2007\"))/F.col(\"2007\")*100),2))\\\n",
    "        .sort(F.col(\"2007\").desc())\\\n",
    "        .show(8)"
   ]
  },
  {
   "cell_type": "markdown",
   "metadata": {},
   "source": [
    "In December 2007 we had 46,651 total flight arrivals into LAX, SEA, JFK, and IAD, over 2,300 more than flight arrivals in January 2008. \n",
    "\n",
    "From the four airports, LAX has the highest volume of flights with 20,222 flights arriving in December 2007, almost double what JFK and SEA receive and almost three times more air traffic than IAD. When we look at the flight volume in December 2007 compared to January 2008, LAX had the most significant percentage decrease in flights (6.22%) compared to JFK, SEA and IAH. In contrast, IAD only saw a 1.65% decrease in flights from December to January. \n",
    "\n",
    "The days with most flights in 2007 are December 21, 28, 26, 20, 27 with over 1,576 flights arriving into the airports in our analysis. In comparison to the same date in January, we see a reduction of flights between 6.5% and 19.6%.\n",
    "\n",
    "When we consider each airport's arrivals on those busiest travel dates, Dec 21 and 28, we see that LAX had 686 arrivals on each of those days, again significantly more than the rest of the airports. However, when looking at percentage differences between December 2007 and January 2008, the airport that saw the biggest flight arrival decline was JFK with a decrease of over 10%.\n",
    "\n",
    "Let's now examine arrival delays. "
   ]
  },
  {
   "cell_type": "markdown",
   "metadata": {},
   "source": [
    "\n",
    "**Arrival Delays**"
   ]
  },
  {
   "cell_type": "code",
   "execution_count": 11,
   "metadata": {},
   "outputs": [
    {
     "data": {
      "text/markdown": [
       "There were a total of **15489** flight delays for our airports in December 2007."
      ],
      "text/plain": [
       "<IPython.core.display.Markdown object>"
      ]
     },
     "metadata": {},
     "output_type": "display_data"
    },
    {
     "data": {
      "text/markdown": [
       "There were a total of **11979** flight delays for our airports in January 2008."
      ],
      "text/plain": [
       "<IPython.core.display.Markdown object>"
      ]
     },
     "metadata": {},
     "output_type": "display_data"
    },
    {
     "name": "stdout",
     "output_type": "stream",
     "text": [
      "Total arrival delays for December 2007 and January 2008 for each airport:\n",
      "+----+----+----+--------------+\n",
      "|DEST|2007|2008|PercDifference|\n",
      "+----+----+----+--------------+\n",
      "| LAX|6655|5886|        -11.56|\n",
      "| JFK|3538|2356|        -33.41|\n",
      "| SEA|3124|2140|         -31.5|\n",
      "| IAD|2172|1597|        -26.47|\n",
      "+----+----+----+--------------+\n",
      "\n",
      "Total arrival delays for the busiest days:\n",
      "+------------+----+----+--------------+\n",
      "|DAY_OF_MONTH|2007|2008|PercDifference|\n",
      "+------------+----+----+--------------+\n",
      "|          21| 740| 491|        -33.65|\n",
      "|          22| 687| 424|        -38.28|\n",
      "|          20| 686| 239|        -65.16|\n",
      "|          27| 677| 656|          -3.1|\n",
      "|          28| 675| 438|        -35.11|\n",
      "|          23| 673| 425|        -36.85|\n",
      "|           2| 624| 618|         -0.96|\n",
      "+------------+----+----+--------------+\n",
      "only showing top 7 rows\n",
      "\n",
      "Arrival delays by airport for the busiest days Dec 20, 21 and 22:\n",
      "+----+------------+----+----+--------------+\n",
      "|DEST|DAY_OF_MONTH|2007|2008|PercDifference|\n",
      "+----+------------+----+----+--------------+\n",
      "| LAX|          20| 369| 101|        -72.63|\n",
      "| LAX|          21| 296| 268|         -9.46|\n",
      "| LAX|          22| 230| 181|         -21.3|\n",
      "| JFK|          21| 194|  86|        -55.67|\n",
      "| JFK|          22| 192| 128|        -33.33|\n",
      "| SEA|          22| 152|  51|        -66.45|\n",
      "| SEA|          21| 139|  74|        -46.76|\n",
      "| JFK|          20| 134|  58|        -56.72|\n",
      "| IAD|          22| 113|  64|        -43.36|\n",
      "| SEA|          20| 112|  38|        -66.07|\n",
      "| IAD|          21| 111|  63|        -43.24|\n",
      "| IAD|          20|  71|  42|        -40.85|\n",
      "+----+------------+----+----+--------------+\n",
      "\n"
     ]
    }
   ],
   "source": [
    "display(Markdown(\"There were a total of **%d** flight delays for our airports in December 2007.\" % ArrDelay2007.count()))\n",
    "display(Markdown(\"There were a total of **%d** flight delays for our airports in January 2008.\" % ArrDelay2008.count()))\n",
    "\n",
    "print(\"Total arrival delays for December 2007 and January 2008 for each airport:\")\n",
    "Arrivals.filter(\"ARR_DEL15==1\")\\\n",
    "        .select(\"YEAR\",\"DEST\", \"ARR_DELAY\")\\\n",
    "        .groupBy(\"DEST\")\\\n",
    "        .pivot(\"YEAR\")\\\n",
    "        .count()\\\n",
    "        .withColumn(\"PercDifference\", F.round(((F.col(\"2008\")-F.col(\"2007\"))/F.col(\"2007\")*100),2))\\\n",
    "        .sort(F.col(\"2007\").desc())\\\n",
    "        .show(25)\n",
    "\n",
    "print(\"Total arrival delays for the busiest days:\")\n",
    "Arrivals.filter(\"ARR_DEL15==1\")\\\n",
    "        .select(\"YEAR\",\"DAY_OF_MONTH\",\"ARR_DELAY\")\\\n",
    "        .groupBy(\"DAY_OF_MONTH\")\\\n",
    "        .pivot(\"YEAR\")\\\n",
    "        .count()\\\n",
    "        .withColumn(\"PercDifference\", F.round(((F.col(\"2008\")-F.col(\"2007\"))/F.col(\"2007\")*100),2))\\\n",
    "        .sort(F.col(\"2007\").desc())\\\n",
    "        .show(7)\n",
    "\n",
    "print(\"Arrival delays by airport for the busiest days Dec 20, 21 and 22:\")\n",
    "Arrivals.filter(\"ARR_DEL15==1\")\\\n",
    "        .filter(\"DAY_OF_MONTH==20 OR DAY_OF_MONTH==21 OR DAY_OF_MONTH==22\")\\\n",
    "        .select(\"YEAR\",\"DEST\",\"DAY_OF_MONTH\", \"ARR_DELAY\")\\\n",
    "        .groupBy(\"DEST\",\"DAY_OF_MONTH\")\\\n",
    "        .pivot(\"YEAR\")\\\n",
    "        .count()\\\n",
    "        .withColumn(\"PercDifference\", F.round(((F.col(\"2008\")-F.col(\"2007\"))/F.col(\"2007\")*100),2))\\\n",
    "        .sort(F.col(\"2007\").desc())\\\n",
    "        .show(12)\n"
   ]
  },
  {
   "cell_type": "markdown",
   "metadata": {},
   "source": [
    "We consider those flights arriving more than 15 minutes late an arrival delay. In December 2007 our airports reported a total of 15,489 arrival delays in comparison to 11,979 arrival delays in January 2008. \n",
    "\n",
    "While LAX is again the airport with the highest volume of arrival delays, JFK had the highest percentage difference in delays between December 2007 and January 2008 (33.41%). \n",
    "\n",
    "The days with the highest numbers of arrival delays were December 20, 21, and 22 with over 686 flights arriving late in each day. On December 20, LAX had the highest number of flight arrival delays with 369. When comparing this figure to the same day in January 2008, LAX only had 101 delays, a drop of 72.6%. It is interesting to note, however, SEA on December 20 had 112 delays in comparison to 38 on January 20, an impressive 66% difference between both months. \n",
    "\n",
    "Let us focus on the reasons for arrival delay on both months, and check if the most frequent delay types are also the ones amounting to the greatest cumulative sum in minutes.\n"
   ]
  },
  {
   "cell_type": "markdown",
   "metadata": {},
   "source": [
    "**Arrival Delays December 2007**"
   ]
  },
  {
   "cell_type": "code",
   "execution_count": 23,
   "metadata": {},
   "outputs": [],
   "source": [
    "# Subset the dataframe with destination airports and delay types:\n",
    "airportDelay07 = ArrDelay2007.select(\"DEST\",\n",
    "                                     \"WEATHER_DELAY\",\n",
    "                                     \"NAS_DELAY\",\n",
    "                                     \"SECURITY_DELAY\",\n",
    "                                     \"LATE_AIRCRAFT_DELAY\")\n",
    "\n",
    "# Group by destination airports:\n",
    "groupedByAirport = airportDelay07.groupBy(\"DEST\")"
   ]
  },
  {
   "cell_type": "code",
   "execution_count": 24,
   "metadata": {},
   "outputs": [],
   "source": [
    "# Define the conditions for column selection based on maximum count or maximum cumulative total\n",
    "\n",
    "condCount = \"F.when\" + \\\n",
    "            \".when\".join([\"(F.col('\" + c + \"') == F.col('MAX_COUNT'), '\" + c + \"')\" \\\n",
    "                          for c in airportDelay07.columns[1:]])\n",
    "\n",
    "condMins = \"F.when\" + \\\n",
    "           \".when\".join([\"(F.col('\" + c + \"') == F.col('MAX_MINUTES'), '\" + c + \"')\" \\\n",
    "                         for c in airportDelay07.columns[1:]])"
   ]
  },
  {
   "cell_type": "code",
   "execution_count": 25,
   "metadata": {},
   "outputs": [
    {
     "name": "stdout",
     "output_type": "stream",
     "text": [
      "Count of delay types and maximum count for each airport December 2007:\n",
      "+----+-------------+---------+--------------+-------------------+---------+-------------------+\n",
      "|DEST|WEATHER_DELAY|NAS_DELAY|SECURITY_DELAY|LATE_AIRCRAFT_DELAY|MAX_COUNT|    MAX_COUNT_DELAY|\n",
      "+----+-------------+---------+--------------+-------------------+---------+-------------------+\n",
      "| IAD|          129|      832|             3|               1123|     1123|LATE_AIRCRAFT_DELAY|\n",
      "| SEA|          175|     2211|            39|               1429|     2211|          NAS_DELAY|\n",
      "| LAX|          373|     4111|            50|               3301|     4111|          NAS_DELAY|\n",
      "| JFK|          188|     2540|             6|               1623|     2540|          NAS_DELAY|\n",
      "+----+-------------+---------+--------------+-------------------+---------+-------------------+\n",
      "\n",
      "Sum of delay minutes per type for each airport December 2007:\n",
      "+----+-------------+---------+--------------+-------------------+-----------+-------------------+\n",
      "|DEST|WEATHER_DELAY|NAS_DELAY|SECURITY_DELAY|LATE_AIRCRAFT_DELAY|MAX_MINUTES|  MAX_MINUTES_DELAY|\n",
      "+----+-------------+---------+--------------+-------------------+-----------+-------------------+\n",
      "| IAD|       8984.0|  25690.0|          26.0|            67220.0|    67220.0|LATE_AIRCRAFT_DELAY|\n",
      "| SEA|       5225.0|  42881.0|         659.0|            63177.0|    63177.0|LATE_AIRCRAFT_DELAY|\n",
      "| LAX|      13018.0|  90474.0|         792.0|           141065.0|   141065.0|LATE_AIRCRAFT_DELAY|\n",
      "| JFK|      10143.0|  99083.0|          61.0|            75857.0|    99083.0|          NAS_DELAY|\n",
      "+----+-------------+---------+--------------+-------------------+-----------+-------------------+\n",
      "\n"
     ]
    }
   ],
   "source": [
    "# Aggregate by counting the delay types and add column with maximum count \n",
    "# (by evaluating the appropriate condition):\n",
    "\n",
    "print(\"Count of arrival delay types and maximum count for each airport December 2007:\")\n",
    "agg_byCount = groupedByAirport.agg(*[F.count(F.when(airportDelay07[c] != 0, c)).alias(c) \\\n",
    "                                     for c in airportDelay07.columns[1:]])\n",
    "\n",
    "agg_byCount.withColumn(\"MAX_COUNT\", F.greatest(*agg_byCount.columns[1:]))\\\n",
    "           .withColumn(\"MAX_COUNT_DELAY\", eval(condCount))\\\n",
    "           .show()\n",
    "\n",
    "#Aggregate by adding up the delay minutes per type and add column with maximum cumulative total \n",
    "#(by evaluating the appropriate condition):\n",
    "print(\"Sum of arrival delay minutes per type for each airport December 2007:\")\n",
    "agg_byMins = groupedByAirport.agg(*[F.sum(airportDelay07[c]).alias(c) \\\n",
    "                                    for c in airportDelay07.columns[1:]])\n",
    "\n",
    "agg_byMins.withColumn(\"MAX_MINUTES\", F.greatest(*agg_byMins.columns[1:]))\\\n",
    "          .withColumn(\"MAX_MINUTES_DELAY\", eval(condMins))\\\n",
    "          .show()"
   ]
  },
  {
   "cell_type": "markdown",
   "metadata": {},
   "source": [
    "When we look at the reason of flight arrival delays in December 2007, we find and interesting mismatch for SEA and LAX between the most frequent reason and the reason that caused the longest delay in minutes. SEA and LAX had a total of 2,211 and 4,111 delays attributed to NAS_DELAYS respectively. However, NAS_DELAY only accounts for an aggregate of minute delays of 42,881 and 90,474 respectively, second to LATE_AIRCRAFT_ARRIVAL_DELAY with aggregate minute delays of 63,177 and 141,065. This means that while there were more NAS_DELAYS, these were shorter in duration than LATE_AIRCRAFT_DELAY which probably caused a greater inconvenience to travelers."
   ]
  },
  {
   "cell_type": "markdown",
   "metadata": {},
   "source": [
    "**Arrival Delays January 2008**"
   ]
  },
  {
   "cell_type": "code",
   "execution_count": 26,
   "metadata": {},
   "outputs": [],
   "source": [
    "# Subset the dataframe with destination airports and delay types:\n",
    "airportDelay08 = ArrDelay2008.select(\"DEST\",\n",
    "                                     \"WEATHER_DELAY\",\n",
    "                                     \"NAS_DELAY\",\n",
    "                                     \"SECURITY_DELAY\",\n",
    "                                     \"LATE_AIRCRAFT_DELAY\")\n",
    "\n",
    "# Group by destination airports:\n",
    "groupedByAirport = airportDelay08.groupBy(\"DEST\")"
   ]
  },
  {
   "cell_type": "code",
   "execution_count": 27,
   "metadata": {},
   "outputs": [],
   "source": [
    "# Define the conditions for column selection based on maximum count or maximum cumulative total\n",
    "\n",
    "condCount = \"F.when\" + \\\n",
    "            \".when\".join([\"(F.col('\" + c + \"') == F.col('MAX_COUNT'), '\" + c + \"')\" \\\n",
    "                          for c in airportDelay08.columns[1:]])\n",
    "\n",
    "condMins = \"F.when\" + \\\n",
    "           \".when\".join([\"(F.col('\" + c + \"') == F.col('MAX_MINUTES'), '\" + c + \"')\" \\\n",
    "                         for c in airportDelay08.columns[1:]])"
   ]
  },
  {
   "cell_type": "code",
   "execution_count": 28,
   "metadata": {},
   "outputs": [
    {
     "name": "stdout",
     "output_type": "stream",
     "text": [
      "Count of delay types and maximum count for each airport January 2008:\n",
      "+----+-------------+---------+--------------+-------------------+---------+-------------------+\n",
      "|DEST|WEATHER_DELAY|NAS_DELAY|SECURITY_DELAY|LATE_AIRCRAFT_DELAY|MAX_COUNT|    MAX_COUNT_DELAY|\n",
      "+----+-------------+---------+--------------+-------------------+---------+-------------------+\n",
      "| IAD|           53|      580|             6|                784|      784|LATE_AIRCRAFT_DELAY|\n",
      "| SEA|          100|     1171|            21|               1103|     1171|          NAS_DELAY|\n",
      "| LAX|          230|     3736|            37|               2926|     3736|          NAS_DELAY|\n",
      "| JFK|          170|     1649|             7|                980|     1649|          NAS_DELAY|\n",
      "+----+-------------+---------+--------------+-------------------+---------+-------------------+\n",
      "\n",
      "Sum of delay minutes per type for each airport January 2008:\n",
      "+----+-------------+---------+--------------+-------------------+-----------+-------------------+\n",
      "|DEST|WEATHER_DELAY|NAS_DELAY|SECURITY_DELAY|LATE_AIRCRAFT_DELAY|MAX_MINUTES|  MAX_MINUTES_DELAY|\n",
      "+----+-------------+---------+--------------+-------------------+-----------+-------------------+\n",
      "| IAD|       2742.0|  12544.0|          90.0|            42887.0|    42887.0|LATE_AIRCRAFT_DELAY|\n",
      "| SEA|       3827.0|  20466.0|         400.0|            50195.0|    50195.0|LATE_AIRCRAFT_DELAY|\n",
      "| LAX|      10061.0|  84279.0|         634.0|           135351.0|   135351.0|LATE_AIRCRAFT_DELAY|\n",
      "| JFK|       8822.0|  45212.0|          80.0|            40461.0|    45212.0|          NAS_DELAY|\n",
      "+----+-------------+---------+--------------+-------------------+-----------+-------------------+\n",
      "\n"
     ]
    }
   ],
   "source": [
    "# Aggregate by counting the delay types and add column with maximum count \n",
    "# (by evaluating the appropriate condition):\n",
    "\n",
    "print(\"Count of arrival delay types and maximum count for each airport January 2008:\")\n",
    "agg_byCount = groupedByAirport.agg(*[F.count(F.when(airportDelay08[c] != 0, c)).alias(c) \\\n",
    "                                     for c in airportDelay08.columns[1:]])\n",
    "\n",
    "agg_byCount.withColumn(\"MAX_COUNT\", F.greatest(*agg_byCount.columns[1:]))\\\n",
    "           .withColumn(\"MAX_COUNT_DELAY\", eval(condCount))\\\n",
    "           .show()\n",
    "\n",
    "\n",
    "# Aggregate by adding up the delay minutes per type and add column with maximum cumulative total \n",
    "# (by evaluating the appropriate condition):\n",
    "\n",
    "print(\"Sum of arrival delay minutes per type for each airport January 2008:\")\n",
    "agg_byMins = groupedByAirport.agg(*[F.sum(airportDelay08[c]).alias(c) \\\n",
    "                                    for c in airportDelay08.columns[1:]])\n",
    "\n",
    "agg_byMins.withColumn(\"MAX_MINUTES\", F.greatest(*agg_byMins.columns[1:]))\\\n",
    "          .withColumn(\"MAX_MINUTES_DELAY\", eval(condMins))\\\n",
    "          .show()"
   ]
  },
  {
   "cell_type": "markdown",
   "metadata": {},
   "source": [
    "In January 2008 we find the same pattern for SEA and LAX between the reason with most number of delays (NAS_DELAY) versus the reason that caused the longest delay in minutes(LATE_AIRCRAFT_DELAY). It is also notable to mention that there is a reduction in both the number of delays and the minutes for each delay between December 2007 and January 2008. For example, JFK's most frequent reason for arrival delay  and reason for most delay minutes for both months was NAS_DELAY. However, in December 2007 it reported 2,540 arrival delays and 99,083 delay minutes compared to 1,649 delays and 45,212 delay minutes in January 2008.  "
   ]
  },
  {
   "cell_type": "markdown",
   "metadata": {},
   "source": [
    "***\n",
    "\n",
    "## Departures"
   ]
  },
  {
   "cell_type": "code",
   "execution_count": 29,
   "metadata": {},
   "outputs": [
    {
     "name": "stdout",
     "output_type": "stream",
     "text": [
      "Total departures for December 2007 and January 2008 for each airport:\n",
      "+------+-----+-----+--------------+\n",
      "|ORIGIN| 2007| 2008|PercDifference|\n",
      "+------+-----+-----+--------------+\n",
      "|   LAX|20210|18945|         -6.26|\n",
      "|   JFK|10628|10023|         -5.69|\n",
      "|   SEA| 8913| 8543|         -4.15|\n",
      "|   IAD| 6909| 6786|         -1.78|\n",
      "+------+-----+-----+--------------+\n",
      "\n",
      "Total departures for the busiest days:\n",
      "+------------+----+----+--------------+\n",
      "|DAY_OF_MONTH|2007|2008|PercDifference|\n",
      "+------------+----+----+--------------+\n",
      "|          21|1585|1443|         -8.96|\n",
      "|          28|1582|1437|         -9.17|\n",
      "|          20|1580|1372|        -13.16|\n",
      "|          26|1577|1270|        -19.47|\n",
      "|          27|1577|1372|         -13.0|\n",
      "|          19|1570|1272|        -18.98|\n",
      "|          18|1544|1455|         -5.76|\n",
      "+------------+----+----+--------------+\n",
      "only showing top 7 rows\n",
      "\n",
      "Flight departures by airport for the busiest days :\n",
      "+------+------------+----+----+--------------+\n",
      "|ORIGIN|DAY_OF_MONTH|2007|2008|PercDifference|\n",
      "+------+------------+----+----+--------------+\n",
      "|   LAX|          20| 684| 590|        -13.74|\n",
      "|   LAX|          28| 684| 617|          -9.8|\n",
      "|   LAX|          21| 684| 618|         -9.65|\n",
      "|   JFK|          21| 366| 326|        -10.93|\n",
      "|   JFK|          28| 365| 323|        -11.51|\n",
      "|   JFK|          20| 363| 311|        -14.33|\n",
      "|   SEA|          21| 299| 277|         -7.36|\n",
      "|   SEA|          28| 299| 276|         -7.69|\n",
      "|   SEA|          20| 298| 261|        -12.42|\n",
      "|   IAD|          21| 236| 222|         -5.93|\n",
      "|   IAD|          20| 235| 210|        -10.64|\n",
      "|   IAD|          28| 234| 221|         -5.56|\n",
      "+------+------------+----+----+--------------+\n",
      "\n"
     ]
    }
   ],
   "source": [
    "print(\"Total departures for December 2007 and January 2008 for each airport:\")\n",
    "Departures.select(\"YEAR\",\"ORIGIN\")\\\n",
    "        .groupBy(\"ORIGIN\")\\\n",
    "        .pivot(\"YEAR\")\\\n",
    "        .count()\\\n",
    "        .withColumn(\"PercDifference\", F.round(((F.col(\"2008\")-F.col(\"2007\"))/F.col(\"2007\")*100),2))\\\n",
    "        .sort(F.col(\"2007\").desc())\\\n",
    "        .show(25)\n",
    "\n",
    "print(\"Total departures for the busiest days:\")\n",
    "Departures.select(\"YEAR\",\"DAY_OF_MONTH\")\\\n",
    "        .groupBy(\"DAY_OF_MONTH\")\\\n",
    "        .pivot(\"YEAR\")\\\n",
    "        .count()\\\n",
    "        .withColumn(\"PercDifference\", F.round(((F.col(\"2008\")-F.col(\"2007\"))/F.col(\"2007\")*100),2))\\\n",
    "        .sort(F.col(\"2007\").desc())\\\n",
    "        .show(7)\n",
    "\n",
    "print(\"Flight departures by airport for the busiest days :\")\n",
    "Departures.filter(\"DAY_OF_MONTH==20 OR DAY_OF_MONTH==21 OR DAY_OF_MONTH==28\")\\\n",
    "        .select(\"YEAR\",\"ORIGIN\",\"DAY_OF_MONTH\")\\\n",
    "        .groupBy(\"ORIGIN\",\"DAY_OF_MONTH\")\\\n",
    "        .pivot(\"YEAR\")\\\n",
    "        .count()\\\n",
    "        .withColumn(\"PercDifference\", F.round(((F.col(\"2008\")-F.col(\"2007\"))/F.col(\"2007\")*100),2))\\\n",
    "        .sort(F.col(\"2007\").desc())\\\n",
    "        .show(12)"
   ]
  },
  {
   "cell_type": "markdown",
   "metadata": {},
   "source": [
    "Departures from our airports for the same period, December 2007 and January 2008, follow a similar pattern than our arrivals. \n",
    "\n",
    "In December 2007 we had 46,660 total flight departures from LAX, SEA, JFK, and IAD, and 44,297 flight departures in January 2008. \n",
    "\n",
    "LAX also leads all other airports in flight volume, reporting 20,210 departures in December 2007 and 18,945 in January 2008. This is double the traveler volume than the second largest airport, JFK. When considering the percentage decrease in flight departures between December and January, LAX saw the largest decrease of 6.26%.\n",
    "\n",
    "The days with most flight departures are Dec 20, 21, and 28 with over 1,580 departures in each of these days. For comparative purposes, those same days in January had between 9% and 13% less flight departures. \n",
    "\n",
    "Now, we will examine flight departure delays and the reasons for those delays:"
   ]
  },
  {
   "cell_type": "markdown",
   "metadata": {},
   "source": [
    "**Departure Delays**"
   ]
  },
  {
   "cell_type": "code",
   "execution_count": 30,
   "metadata": {
    "scrolled": false
   },
   "outputs": [
    {
     "data": {
      "text/markdown": [
       "There were a total of **13073** departure delays for our airports in December 2007."
      ],
      "text/plain": [
       "<IPython.core.display.Markdown object>"
      ]
     },
     "metadata": {},
     "output_type": "display_data"
    },
    {
     "data": {
      "text/markdown": [
       "There were a total of **9976** departure delays for our airports in January 2008."
      ],
      "text/plain": [
       "<IPython.core.display.Markdown object>"
      ]
     },
     "metadata": {},
     "output_type": "display_data"
    },
    {
     "name": "stdout",
     "output_type": "stream",
     "text": [
      "Total departure delays for December 2007 and January 2008 for each airport:\n",
      "+------+----+----+--------------+\n",
      "|ORIGIN|2007|2008|PercDifference|\n",
      "+------+----+----+--------------+\n",
      "|   LAX|5439|4782|        -12.08|\n",
      "|   JFK|3009|1898|        -36.92|\n",
      "|   SEA|2520|1805|        -28.37|\n",
      "|   IAD|2105|1491|        -29.17|\n",
      "+------+----+----+--------------+\n",
      "\n",
      "Total departure delays for the busiest days:\n",
      "+------------+----+----+--------------+\n",
      "|DAY_OF_MONTH|2007|2008|PercDifference|\n",
      "+------------+----+----+--------------+\n",
      "|          21| 682| 437|        -35.92|\n",
      "|          23| 667| 291|        -56.37|\n",
      "|          22| 644| 325|        -49.53|\n",
      "|          20| 632| 210|        -66.77|\n",
      "|          27| 607| 500|        -17.63|\n",
      "|          28| 576| 322|         -44.1|\n",
      "|          19| 558| 212|        -62.01|\n",
      "+------------+----+----+--------------+\n",
      "only showing top 7 rows\n",
      "\n",
      "Departure delays by airport for the busiest days Dec 21, 21 and 23:\n",
      "+------+------------+----+----+--------------+\n",
      "|ORIGIN|DAY_OF_MONTH|2007|2008|PercDifference|\n",
      "+------+------------+----+----+--------------+\n",
      "|   LAX|          20| 322|  82|        -74.53|\n",
      "|   LAX|          28| 274| 183|        -33.21|\n",
      "|   LAX|          21| 258| 241|         -6.59|\n",
      "|   JFK|          21| 194|  71|         -63.4|\n",
      "|   SEA|          28| 138|  68|        -50.72|\n",
      "|   JFK|          20| 133|  52|         -60.9|\n",
      "|   SEA|          21| 124|  75|        -39.52|\n",
      "|   IAD|          21| 106|  50|        -52.83|\n",
      "|   IAD|          20|  89|  54|        -39.33|\n",
      "|   SEA|          20|  88|  22|         -75.0|\n",
      "|   IAD|          28|  87|  28|        -67.82|\n",
      "|   JFK|          28|  77|  43|        -44.16|\n",
      "+------+------------+----+----+--------------+\n",
      "\n"
     ]
    }
   ],
   "source": [
    "display(Markdown(\"There were a total of **%d** departure delays for our airports in December 2007.\" % DepDelay2007.count()))\n",
    "display(Markdown(\"There were a total of **%d** departure delays for our airports in January 2008.\" % DepDelay2008.count()))\n",
    "\n",
    "print(\"Total departure delays for December 2007 and January 2008 for each airport:\")\n",
    "Departures.filter(\"DEP_DEL15==1\")\\\n",
    "        .select(\"YEAR\",\"ORIGIN\", \"DEP_DELAY\")\\\n",
    "        .groupBy(\"ORIGIN\")\\\n",
    "        .pivot(\"YEAR\")\\\n",
    "        .count()\\\n",
    "        .withColumn(\"PercDifference\", F.round(((F.col(\"2008\")-F.col(\"2007\"))/F.col(\"2007\")*100),2))\\\n",
    "        .sort(F.col(\"2007\").desc())\\\n",
    "        .show(25)\n",
    "\n",
    "print(\"Total departure delays for the busiest days:\")\n",
    "Departures.filter(\"DEP_DEL15==1\")\\\n",
    "        .select(\"YEAR\",\"DAY_OF_MONTH\",\"DEP_DELAY\")\\\n",
    "        .groupBy(\"DAY_OF_MONTH\")\\\n",
    "        .pivot(\"YEAR\")\\\n",
    "        .count()\\\n",
    "        .withColumn(\"PercDifference\", F.round(((F.col(\"2008\")-F.col(\"2007\"))/F.col(\"2007\")*100),2))\\\n",
    "        .sort(F.col(\"2007\").desc())\\\n",
    "        .show(7)\n",
    "\n",
    "print(\"Departure delays by airport for the busiest days Dec 21, 21 and 23:\")\n",
    "Departures.filter(\"DEP_DEL15==1\")\\\n",
    "        .filter(\"DAY_OF_MONTH==20 OR DAY_OF_MONTH==21 OR DAY_OF_MONTH==28\")\\\n",
    "        .select(\"YEAR\",\"ORIGIN\",\"DAY_OF_MONTH\", \"DEP_DELAY\")\\\n",
    "        .groupBy(\"ORIGIN\",\"DAY_OF_MONTH\")\\\n",
    "        .pivot(\"YEAR\")\\\n",
    "        .count()\\\n",
    "        .withColumn(\"PercDifference\", F.round(((F.col(\"2008\")-F.col(\"2007\"))/F.col(\"2007\")*100),2))\\\n",
    "        .sort(F.col(\"2007\").desc())\\\n",
    "        .show(12)"
   ]
  },
  {
   "cell_type": "markdown",
   "metadata": {},
   "source": [
    "The total departure delays from our airports was 13,073 in December 2007  and 9,976 in January 2008. LAX had the highest number of depature delays on both time periods, reporting 5,439 departure delays in December 2007 and 4,782 in January 2008. However, JFK experienced the highest percentage change of almost 37% less flights in January than December. \n",
    "\n",
    "The days with most total number departure delays were December 21, 22 and 23, reporting over 640 delays per day. When examinging the percentage change between those days in December 2007 and January 2008, the days with most difference were December 19th and 20th with 62% and 66.8% respectively. \n",
    "\n",
    "On December 20th, LAX had 322 departure delays, compared to the same day in January where it only had 82 flight delays, an impressive difference of 74.5% \n",
    "\n",
    "Let us focus on the reasons for departure delay on both months, and check if the most frequent delay types are also the ones amounting to the greatest cumulative sum in minutes."
   ]
  },
  {
   "cell_type": "markdown",
   "metadata": {},
   "source": [
    "**Departure Delays December 2007**"
   ]
  },
  {
   "cell_type": "code",
   "execution_count": 31,
   "metadata": {},
   "outputs": [],
   "source": [
    "# Subset the dataframe with origin airports and delay types:\n",
    "airportDelay07 = DepDelay2007.select(\"ORIGIN\",\n",
    "                                     \"WEATHER_DELAY\",\n",
    "                                     \"NAS_DELAY\",\n",
    "                                     \"SECURITY_DELAY\",\n",
    "                                     \"LATE_AIRCRAFT_DELAY\")\n",
    "\n",
    "# Group by destination airports:\n",
    "groupedByAirport = airportDelay07.groupBy(\"ORIGIN\")"
   ]
  },
  {
   "cell_type": "code",
   "execution_count": 32,
   "metadata": {},
   "outputs": [],
   "source": [
    "# Define the conditions for column selection based on maximum count or maximum cumulative total\n",
    "\n",
    "condCount = \"F.when\" + \\\n",
    "            \".when\".join([\"(F.col('\" + c + \"') == F.col('MAX_COUNT'), '\" + c + \"')\" \\\n",
    "                          for c in airportDelay07.columns[1:]])\n",
    "\n",
    "condMins = \"F.when\" + \\\n",
    "           \".when\".join([\"(F.col('\" + c + \"') == F.col('MAX_MINUTES'), '\" + c + \"')\" \\\n",
    "                         for c in airportDelay07.columns[1:]])"
   ]
  },
  {
   "cell_type": "code",
   "execution_count": 33,
   "metadata": {},
   "outputs": [
    {
     "name": "stdout",
     "output_type": "stream",
     "text": [
      "Count of departure delay types and maximum count for each airport December 2007:\n",
      "+------+-------------+---------+--------------+-------------------+---------+-------------------+\n",
      "|ORIGIN|WEATHER_DELAY|NAS_DELAY|SECURITY_DELAY|LATE_AIRCRAFT_DELAY|MAX_COUNT|    MAX_COUNT_DELAY|\n",
      "+------+-------------+---------+--------------+-------------------+---------+-------------------+\n",
      "|   IAD|           77|      645|            23|                728|      728|LATE_AIRCRAFT_DELAY|\n",
      "|   SEA|           89|      846|            14|               1197|     1197|LATE_AIRCRAFT_DELAY|\n",
      "|   LAX|           70|     1979|            31|               2953|     2953|LATE_AIRCRAFT_DELAY|\n",
      "|   JFK|          294|     1220|            10|               1350|     1350|LATE_AIRCRAFT_DELAY|\n",
      "+------+-------------+---------+--------------+-------------------+---------+-------------------+\n",
      "\n",
      "Sum of departure delay minutes per type for each airport December 2007:\n",
      "+------+-------------+---------+--------------+-------------------+-----------+-------------------+\n",
      "|ORIGIN|WEATHER_DELAY|NAS_DELAY|SECURITY_DELAY|LATE_AIRCRAFT_DELAY|MAX_MINUTES|  MAX_MINUTES_DELAY|\n",
      "+------+-------------+---------+--------------+-------------------+-----------+-------------------+\n",
      "|   IAD|       4572.0|  21285.0|        1119.0|            44557.0|    44557.0|LATE_AIRCRAFT_DELAY|\n",
      "|   SEA|       2351.0|  20217.0|         257.0|            49938.0|    49938.0|LATE_AIRCRAFT_DELAY|\n",
      "|   LAX|       3688.0|  40075.0|         782.0|           126236.0|   126236.0|LATE_AIRCRAFT_DELAY|\n",
      "|   JFK|      17402.0|  34195.0|         316.0|            77561.0|    77561.0|LATE_AIRCRAFT_DELAY|\n",
      "+------+-------------+---------+--------------+-------------------+-----------+-------------------+\n",
      "\n"
     ]
    }
   ],
   "source": [
    "# Aggregate by counting the delay types and add column with maximum count \n",
    "# (by evaluating the appropriate condition):\n",
    "print(\"Count of departure delay types and maximum count for each airport December 2007:\")\n",
    "agg_byCount = groupedByAirport.agg(*[F.count(F.when(airportDelay07[c] != 0, c)).alias(c) \\\n",
    "                                     for c in airportDelay07.columns[1:]])\n",
    "\n",
    "agg_byCount.withColumn(\"MAX_COUNT\", F.greatest(*agg_byCount.columns[1:]))\\\n",
    "           .withColumn(\"MAX_COUNT_DELAY\", eval(condCount))\\\n",
    "           .show()\n",
    "\n",
    "# Aggregate by adding up the delay minutes per type and add column with maximum cumulative total \n",
    "# (by evaluating the appropriate condition):\n",
    "print(\"Sum of departure delay minutes per type for each airport December 2007:\")\n",
    "agg_byMins = groupedByAirport.agg(*[F.sum(airportDelay07[c]).alias(c) \\\n",
    "                                    for c in airportDelay07.columns[1:]])\n",
    "\n",
    "agg_byMins.withColumn(\"MAX_MINUTES\", F.greatest(*agg_byMins.columns[1:]))\\\n",
    "          .withColumn(\"MAX_MINUTES_DELAY\", eval(condMins))\\\n",
    "          .show()"
   ]
  },
  {
   "cell_type": "markdown",
   "metadata": {},
   "source": [
    "When we examine the reason for delarture delays in December 2007, we find that the reason for both the most number of delays and most delay minutes is LATE_AIRCRAFT_DELAY. LAX and JFK are the airports with the highest number of delays, 2,952 and 1,350, and longest delays in minutes, 126,236 and 77,561 respectively. "
   ]
  },
  {
   "cell_type": "markdown",
   "metadata": {},
   "source": [
    "**Departure Delays January 2008**"
   ]
  },
  {
   "cell_type": "code",
   "execution_count": 37,
   "metadata": {},
   "outputs": [],
   "source": [
    "# Subset the dataframe with origin airports and delay types:\n",
    "airportDelay08 = DepDelay2008.select(\"ORIGIN\",\n",
    "                                     \"WEATHER_DELAY\",\n",
    "                                     \"NAS_DELAY\",\n",
    "                                     \"SECURITY_DELAY\",\n",
    "                                     \"LATE_AIRCRAFT_DELAY\")\n",
    "\n",
    "# Group by destination airports:\n",
    "groupedByAirport = airportDelay08.groupBy(\"ORIGIN\")"
   ]
  },
  {
   "cell_type": "code",
   "execution_count": 38,
   "metadata": {},
   "outputs": [],
   "source": [
    "# Define the conditions for column selection based on maximum count or maximum cumulative total\n",
    "\n",
    "condCount = \"F.when\" + \\\n",
    "            \".when\".join([\"(F.col('\" + c + \"') == F.col('MAX_COUNT'), '\" + c + \"')\" \\\n",
    "                          for c in airportDelay08.columns[1:]])\n",
    "\n",
    "condMins = \"F.when\" + \\\n",
    "           \".when\".join([\"(F.col('\" + c + \"') == F.col('MAX_MINUTES'), '\" + c + \"')\" \\\n",
    "                         for c in airportDelay08.columns[1:]])"
   ]
  },
  {
   "cell_type": "code",
   "execution_count": 39,
   "metadata": {},
   "outputs": [
    {
     "name": "stdout",
     "output_type": "stream",
     "text": [
      "Count of departure delay types and maximum count for each airport January 2008:\n",
      "+------+-------------+---------+--------------+-------------------+---------+-------------------+\n",
      "|ORIGIN|WEATHER_DELAY|NAS_DELAY|SECURITY_DELAY|LATE_AIRCRAFT_DELAY|MAX_COUNT|    MAX_COUNT_DELAY|\n",
      "+------+-------------+---------+--------------+-------------------+---------+-------------------+\n",
      "|   IAD|           85|      394|             3|                434|      434|LATE_AIRCRAFT_DELAY|\n",
      "|   SEA|           40|      744|             8|                787|      787|LATE_AIRCRAFT_DELAY|\n",
      "|   LAX|          131|     1625|            25|               2430|     2430|LATE_AIRCRAFT_DELAY|\n",
      "|   JFK|          101|      757|            16|                730|      757|          NAS_DELAY|\n",
      "+------+-------------+---------+--------------+-------------------+---------+-------------------+\n",
      "\n",
      "Sum of departure delay minutes per type for each airport January 2008:\n",
      "+------+-------------+---------+--------------+-------------------+-----------+-------------------+\n",
      "|ORIGIN|WEATHER_DELAY|NAS_DELAY|SECURITY_DELAY|LATE_AIRCRAFT_DELAY|MAX_MINUTES|  MAX_MINUTES_DELAY|\n",
      "+------+-------------+---------+--------------+-------------------+-----------+-------------------+\n",
      "|   IAD|       6981.0|  11894.0|          59.0|            24827.0|    24827.0|LATE_AIRCRAFT_DELAY|\n",
      "|   SEA|       1525.0|  22664.0|         196.0|            33452.0|    33452.0|LATE_AIRCRAFT_DELAY|\n",
      "|   LAX|       8241.0|  50630.0|         491.0|           110615.0|   110615.0|LATE_AIRCRAFT_DELAY|\n",
      "|   JFK|       5251.0|  23819.0|         317.0|            33774.0|    33774.0|LATE_AIRCRAFT_DELAY|\n",
      "+------+-------------+---------+--------------+-------------------+-----------+-------------------+\n",
      "\n"
     ]
    }
   ],
   "source": [
    "# Aggregate by counting the delay types and add column with maximum count \n",
    "# (by evaluating the appropriate condition):\n",
    "print(\"Count of departure delay types and maximum count for each airport January 2008:\")\n",
    "agg_byCount = groupedByAirport.agg(*[F.count(F.when(airportDelay08[c] != 0, c)).alias(c) \\\n",
    "                                     for c in airportDelay08.columns[1:]])\n",
    "\n",
    "agg_byCount.withColumn(\"MAX_COUNT\", F.greatest(*agg_byCount.columns[1:]))\\\n",
    "           .withColumn(\"MAX_COUNT_DELAY\", eval(condCount))\\\n",
    "           .show()\n",
    "\n",
    "# Aggregate by adding up the delay minutes per type and add column with maximum cumulative total \n",
    "# (by evaluating the appropriate condition):\n",
    "print(\"Sum of departure delay minutes per type for each airport January 2008:\")\n",
    "agg_byMins = groupedByAirport.agg(*[F.sum(airportDelay08[c]).alias(c) \\\n",
    "                                    for c in airportDelay08.columns[1:]])\n",
    "\n",
    "agg_byMins.withColumn(\"MAX_MINUTES\", F.greatest(*agg_byMins.columns[1:]))\\\n",
    "          .withColumn(\"MAX_MINUTES_DELAY\", eval(condMins))\\\n",
    "          .show()"
   ]
  },
  {
   "cell_type": "markdown",
   "metadata": {},
   "source": [
    "In January 2008, all airports experienced the longest delays in minutes due to LATE_AIRCRAFT_ARRIVAL. For IAD, SEA and LAX the highest number of delays was also LATE_AIRCRAFT_ARRIVALS, but for JFK most delays were attributed to NAS_DELAY. \n",
    "Just like with arrival delays, we see that departure delays have a strong decline in both number of delays and length of delay in minutes. JFK saw reduction from December 2007 to January 2008 in the number of delays attributed to LATE_AIRCRAFT_DELAY from 1,350 to 730, and minutes from 77,561 to 33,774. "
   ]
  },
  {
   "cell_type": "markdown",
   "metadata": {},
   "source": [
    "***\n",
    "\n",
    "## Christmas Eve and New Year's Eve\n",
    "\n",
    "When analyzing the impact of important holidays in December 2008, we will consider the day of the week when Christmas Eve and New Years Eve took place and compare it with the average arrivals and departures for the same day of the week for the entire month of January 2008. In December 2007, these important holidays fell on a Monday. "
   ]
  },
  {
   "cell_type": "code",
   "execution_count": 40,
   "metadata": {},
   "outputs": [
    {
     "name": "stdout",
     "output_type": "stream",
     "text": [
      "What day of the week did Christmas Eve and New Years Eve fall on in 2007?\n",
      "+-----------+\n",
      "|DAY_OF_WEEK|\n",
      "+-----------+\n",
      "|          1|\n",
      "+-----------+\n",
      "only showing top 1 row\n",
      "\n",
      "In 2007, Christmas Eve and New Years Eve fell on the 1st day of the week, Monday\n"
     ]
    }
   ],
   "source": [
    "print(\"What day of the week did Christmas Eve and New Years Eve fall on in 2007?\")\n",
    "flights\\\n",
    "    .filter(\"YEAR==2007 and (DAY_OF_MONTH==24 or DAY_OF_MONTH==31)\")\\\n",
    "    .select(\"DAY_OF_WEEK\")\\\n",
    "    .show(1)\n",
    "\n",
    "print(\"In 2007, Christmas Eve and New Years Eve fell on the 1st day of the week, Monday\")"
   ]
  },
  {
   "cell_type": "code",
   "execution_count": 42,
   "metadata": {
    "scrolled": true
   },
   "outputs": [
    {
     "name": "stdout",
     "output_type": "stream",
     "text": [
      "Let's see how many Mondays are in January 2008:\n",
      "+------------+\n",
      "|DAY_OF_MONTH|\n",
      "+------------+\n",
      "|          28|\n",
      "|           7|\n",
      "|          21|\n",
      "|          14|\n",
      "+------------+\n",
      "\n"
     ]
    },
    {
     "data": {
      "text/markdown": [
       "There are **4** Mondays in January 2008."
      ],
      "text/plain": [
       "<IPython.core.display.Markdown object>"
      ]
     },
     "metadata": {},
     "output_type": "display_data"
    }
   ],
   "source": [
    "print(\"Let's see how many Mondays are in January 2008:\")\n",
    "flights\\\n",
    "    .filter(\"YEAR==2008 and DAY_OF_WEEK==1\")\\\n",
    "    .select(\"DAY_OF_MONTH\").distinct()\\\n",
    "    .show()\n",
    "\n",
    "weeksJan = flights\\\n",
    "                .filter(\"YEAR==2008 and DAY_OF_WEEK==1\")\\\n",
    "                .select(\"DAY_OF_MONTH\")\\\n",
    "                .distinct()\\\n",
    "                .count()\n",
    "\n",
    "display(Markdown(\"There are **%d** Mondays in January 2008.\" % weeksJan))"
   ]
  },
  {
   "cell_type": "markdown",
   "metadata": {},
   "source": [
    "**Arrivals and Arrival Delays December 24, 31 vs Mondays in January**"
   ]
  },
  {
   "cell_type": "code",
   "execution_count": 62,
   "metadata": {},
   "outputs": [
    {
     "data": {
      "text/markdown": [
       "In December 2007, the total Arrivals are **46651**"
      ],
      "text/plain": [
       "<IPython.core.display.Markdown object>"
      ]
     },
     "metadata": {},
     "output_type": "display_data"
    },
    {
     "name": "stdout",
     "output_type": "stream",
     "text": [
      "Total arrivals for December 24 and 31 for each airport:\n",
      "+----+---+---+---------------+-----------------+\n",
      "|DEST| 24| 31|AverageArrivals|ArrivalPercentage|\n",
      "+----+---+---+---------------+-----------------+\n",
      "| LAX|606|608|          607.0|              3.0|\n",
      "| JFK|349|348|          349.0|              1.0|\n",
      "| SEA|276|285|          281.0|              1.0|\n",
      "| IAD|212|210|          211.0|              1.0|\n",
      "+----+---+---+---------------+-----------------+\n",
      "\n",
      "Total arrival delays for December 24 and 31 for each airport:\n",
      "+----+---+---+--------------------+----------------------+\n",
      "|DEST| 24| 31|AverageArrivalDelays|ArrivalDelayPercentage|\n",
      "+----+---+---+--------------------+----------------------+\n",
      "| LAX| 84|154|               119.0|                   2.0|\n",
      "| SEA| 54|100|                77.0|                   1.0|\n",
      "| JFK| 84| 67|                76.0|                   1.0|\n",
      "| IAD| 48| 52|                50.0|                   1.0|\n",
      "+----+---+---+--------------------+----------------------+\n",
      "\n"
     ]
    },
    {
     "data": {
      "text/markdown": [
       "In January 2008, the total Arrivals are **44334**"
      ],
      "text/plain": [
       "<IPython.core.display.Markdown object>"
      ]
     },
     "metadata": {},
     "output_type": "display_data"
    },
    {
     "name": "stdout",
     "output_type": "stream",
     "text": [
      "Average flight arrivals for Mondays in January 2008:\n",
      "+----+-----+---------------+-------------+\n",
      "|DEST|count|AverageArrivals|ArrPercentage|\n",
      "+----+-----+---------------+-------------+\n",
      "| LAX| 2488|          622.0|         5.61|\n",
      "| JFK| 1326|          332.0|         2.99|\n",
      "| SEA| 1115|          279.0|         2.51|\n",
      "| IAD|  892|          223.0|         2.01|\n",
      "+----+-----+---------------+-------------+\n",
      "\n",
      "Average late flight arrivals for Mondays in January 2008:\n",
      "+----+-----+-------------------+-----------------+\n",
      "|DEST|count|AverageLateArrivals|LateArrPercentage|\n",
      "+----+-----+-------------------+-----------------+\n",
      "| LAX|  745|              186.0|             1.55|\n",
      "| SEA|  305|               76.0|             0.63|\n",
      "| JFK|  265|               66.0|             0.55|\n",
      "| IAD|  190|               48.0|              0.4|\n",
      "+----+-----+-------------------+-----------------+\n",
      "\n"
     ]
    }
   ],
   "source": [
    "display(Markdown (\"In December 2007, the total Arrivals are **%d**\" %Arrivals2007.count()))\n",
    "\n",
    "print(\"Total arrivals for December 24 and 31 for each airport:\")\n",
    "Arrivals.select(\"YEAR\",\"DAY_OF_MONTH\",\"DEST\")\\\n",
    "        .filter(\"YEAR == 2007\")\\\n",
    "        .filter(\"DAY_OF_MONTH == 24 or DAY_OF_MONTH == 31\")\\\n",
    "        .groupBy(\"DEST\")\\\n",
    "        .pivot(\"DAY_OF_MONTH\")\\\n",
    "        .count()\\\n",
    "        .withColumn(\"AverageArrivals\", F.round((F.col(\"24\")+F.col(\"31\"))/2,0))\\\n",
    "        .withColumn(\"ArrivalPercentage\", F.round((F.col(\"24\")+F.col(\"31\"))/Arrivals2007.count()*100,0))\\\n",
    "        .sort(F.col(\"AverageArrivals\").desc())\\\n",
    "        .show()\n",
    "\n",
    "print(\"Total arrival delays for December 24 and 31 for each airport:\")\n",
    "Arrivals.select(\"YEAR\",\"DAY_OF_MONTH\",\"DEST\")\\\n",
    "        .filter(\"ARR_DEL15==1\")\\\n",
    "        .filter(\"YEAR == 2007\")\\\n",
    "        .filter(\"DAY_OF_MONTH == 24 or DAY_OF_MONTH == 31\")\\\n",
    "        .groupBy(\"DEST\")\\\n",
    "        .pivot(\"DAY_OF_MONTH\")\\\n",
    "        .count()\\\n",
    "        .withColumn(\"AverageArrivalDelays\", F.round((F.col(\"24\")+F.col(\"31\"))/2,0))\\\n",
    "        .withColumn(\"ArrivalDelayPercentage\", F.round((F.col(\"24\")+F.col(\"31\"))/ArrDelay2007.count()*100,0))\\\n",
    "        .sort(F.col(\"AverageArrivalDelays\").desc())\\\n",
    "        .show()\n",
    "\n",
    "\n",
    "display(Markdown (\"In January 2008, the total Arrivals are **%d**\" %Arrivals2008.count()))\n",
    "\n",
    "print(\"Average flight arrivals for Mondays in January 2008:\")\n",
    "Arrivals.filter(\"YEAR==2008\")\\\n",
    "        .filter(\"DAY_OF_WEEK==1\")\\\n",
    "        .select(\"YEAR\",\"DEST\")\\\n",
    "        .sort(\"DEST\", ascending=False)\\\n",
    "        .groupBy(\"DEST\")\\\n",
    "        .count()\\\n",
    "        .withColumn(\"AverageArrivals\", F.round(F.col(\"count\")/weeksJan,0))\\\n",
    "        .withColumn(\"ArrPercentage\", F.round(F.col(\"count\")/Arrivals2008.count()*100,2))\\\n",
    "        .sort(F.col(\"AverageArrivals\").desc())\\\n",
    "        .show()\n",
    "\n",
    "print(\"Average late flight arrivals for Mondays in January 2008:\")\n",
    "Arrivals.filter(\"YEAR==2008\")\\\n",
    "        .filter(\"DAY_OF_WEEK==1\")\\\n",
    "        .filter(\"ARR_DEL15==1\")\\\n",
    "        .select(\"YEAR\",\"DEST\",\"ARR_DELAY\")\\\n",
    "        .groupBy(\"DEST\")\\\n",
    "        .count()\\\n",
    "        .withColumn(\"AverageLateArrivals\", F.round(F.col(\"count\")/weeksJan,0))\\\n",
    "        .withColumn(\"LateArrPercentage\", F.round(F.col(\"AverageLateArrivals\")/ArrDelay2008.count()*100,2))\\\n",
    "        .sort(F.col(\"AverageLateArrivals\").desc())\\\n",
    "        .show()\n"
   ]
  },
  {
   "cell_type": "markdown",
   "metadata": {},
   "source": [
    "**Arrival Delay Count and Cumulative Sum by Reason of Delay**"
   ]
  },
  {
   "cell_type": "code",
   "execution_count": 50,
   "metadata": {},
   "outputs": [],
   "source": [
    "# Subset the dataframe with destination airports and delay types for the dates under study:\n",
    "airportDelayChr07 = ArrDelay2007.select(\"DEST\",\n",
    "                                        \"DAY_OF_MONTH\",\n",
    "                                        \"WEATHER_DELAY\",\n",
    "                                        \"NAS_DELAY\",\n",
    "                                        \"SECURITY_DELAY\",\n",
    "                                        \"LATE_AIRCRAFT_DELAY\")\\\n",
    "                                .where(\"DAY_OF_MONTH==24 OR DAY_OF_MONTH==25 OR DAY_OF_MONTH==31\")\\\n",
    "\n",
    "# Group by destination airports:\n",
    "groupedByAirportDay = airportDelayChr07.groupBy(\"DEST\",\"DAY_OF_MONTH\")"
   ]
  },
  {
   "cell_type": "code",
   "execution_count": 51,
   "metadata": {},
   "outputs": [],
   "source": [
    "# Define the conditions for column selection based on maximum count or maximum cumulative total\n",
    "\n",
    "condCount = \"F.when\" + \\\n",
    "            \".when\".join([\"(F.col('\" + c + \"') == F.col('MAX_COUNT'), '\" + c + \"')\" \\\n",
    "                          for c in airportDelayChr07.columns[1:]])\n",
    "\n",
    "condMins = \"F.when\" + \\\n",
    "           \".when\".join([\"(F.col('\" + c + \"') == F.col('MAX_MINUTES'), '\" + c + \"')\" \\\n",
    "                         for c in airportDelayChr07.columns[1:]])"
   ]
  },
  {
   "cell_type": "code",
   "execution_count": 52,
   "metadata": {},
   "outputs": [
    {
     "name": "stdout",
     "output_type": "stream",
     "text": [
      "Count of arrival delay types and maximum count for each airport December 24, 25, 31, 2007:\n",
      "+----+------------+-------------+---------+--------------+-------------------+---------+-------------------+\n",
      "|DEST|DAY_OF_MONTH|WEATHER_DELAY|NAS_DELAY|SECURITY_DELAY|LATE_AIRCRAFT_DELAY|MAX_COUNT|    MAX_COUNT_DELAY|\n",
      "+----+------------+-------------+---------+--------------+-------------------+---------+-------------------+\n",
      "| IAD|          24|            0|       11|             0|                 21|       21|LATE_AIRCRAFT_DELAY|\n",
      "| IAD|          25|            4|       22|             0|                 23|       23|LATE_AIRCRAFT_DELAY|\n",
      "| IAD|          31|            6|       15|             0|                 27|       27|LATE_AIRCRAFT_DELAY|\n",
      "| JFK|          24|            0|       30|             0|                 48|       48|LATE_AIRCRAFT_DELAY|\n",
      "| JFK|          25|            2|       24|             0|                 20|       24|          NAS_DELAY|\n",
      "| JFK|          31|            4|       33|             0|                 37|       37|LATE_AIRCRAFT_DELAY|\n",
      "| LAX|          24|            3|       32|             0|                 37|       37|LATE_AIRCRAFT_DELAY|\n",
      "| LAX|          25|           18|       53|             0|                 67|       67|LATE_AIRCRAFT_DELAY|\n",
      "| LAX|          31|           10|      109|             1|                 50|      109|          NAS_DELAY|\n",
      "| SEA|          24|            3|       36|             2|                 15|       36|          NAS_DELAY|\n",
      "| SEA|          25|           14|       52|             0|                 31|       52|          NAS_DELAY|\n",
      "| SEA|          31|            2|       63|             2|                 46|       63|          NAS_DELAY|\n",
      "+----+------------+-------------+---------+--------------+-------------------+---------+-------------------+\n",
      "\n",
      "Sum of arrival delay minutes per type for each airport December 24, 25, 31, 2007:\n",
      "+----+------------+-------------+---------+--------------+-------------------+-----------+-------------------+\n",
      "|DEST|DAY_OF_MONTH|WEATHER_DELAY|NAS_DELAY|SECURITY_DELAY|LATE_AIRCRAFT_DELAY|MAX_MINUTES|  MAX_MINUTES_DELAY|\n",
      "+----+------------+-------------+---------+--------------+-------------------+-----------+-------------------+\n",
      "| IAD|          24|          0.0|    143.0|           0.0|             1104.0|     1104.0|LATE_AIRCRAFT_DELAY|\n",
      "| IAD|          25|        281.0|    594.0|           0.0|             1291.0|     1291.0|LATE_AIRCRAFT_DELAY|\n",
      "| IAD|          31|        244.0|    406.0|           0.0|             1713.0|     1713.0|LATE_AIRCRAFT_DELAY|\n",
      "| JFK|          24|          0.0|    433.0|           0.0|             3264.0|     3264.0|LATE_AIRCRAFT_DELAY|\n",
      "| JFK|          25|         76.0|    527.0|           0.0|              828.0|      828.0|LATE_AIRCRAFT_DELAY|\n",
      "| JFK|          31|         74.0|    591.0|           0.0|             1938.0|     1938.0|LATE_AIRCRAFT_DELAY|\n",
      "| LAX|          24|        233.0|    562.0|           0.0|             1561.0|     1561.0|LATE_AIRCRAFT_DELAY|\n",
      "| LAX|          25|       1005.0|   1545.0|           0.0|             3561.0|     3561.0|LATE_AIRCRAFT_DELAY|\n",
      "| LAX|          31|        285.0|   1792.0|          10.0|             1763.0|     1792.0|          NAS_DELAY|\n",
      "| SEA|          24|         55.0|    583.0|          56.0|              437.0|      583.0|          NAS_DELAY|\n",
      "| SEA|          25|        644.0|   1316.0|           0.0|             1663.0|     1663.0|LATE_AIRCRAFT_DELAY|\n",
      "| SEA|          31|         56.0|   1069.0|          29.0|             1899.0|     1899.0|LATE_AIRCRAFT_DELAY|\n",
      "+----+------------+-------------+---------+--------------+-------------------+-----------+-------------------+\n",
      "\n"
     ]
    }
   ],
   "source": [
    "agg_byCount = groupedByAirportDay.agg(*[F.count(F.when(airportDelayChr07[c] != 0, c)).alias(c) \\\n",
    "                                        for c in airportDelayChr07.columns[2:]])\n",
    "print(\"Count of arrival delay types and maximum count for each airport December 24, 25, 31, 2007:\")\n",
    "agg_byCount.withColumn(\"MAX_COUNT\", F.greatest(*agg_byCount.columns[2:]))\\\n",
    "           .withColumn(\"MAX_COUNT_DELAY\", eval(condCount))\\\n",
    "           .orderBy([\"DEST\",\"DAY_OF_MONTH\"],ascending = [True, True])\\\n",
    "           .show()\n",
    "\n",
    "print(\"Sum of arrival delay minutes per type for each airport December 24, 25, 31, 2007:\")\n",
    "agg_byMins = groupedByAirportDay.agg(*[F.sum(airportDelayChr07[c]).alias(c) \\\n",
    "                                    for c in airportDelayChr07.columns[2:]])\n",
    "\n",
    "agg_byMins.withColumn(\"MAX_MINUTES\", F.greatest(*agg_byMins.columns[2:]))\\\n",
    "          .withColumn(\"MAX_MINUTES_DELAY\", eval(condMins))\\\n",
    "          .orderBy([\"DEST\",\"DAY_OF_MONTH\"],ascending = [True, True])\\\n",
    "          .show()"
   ]
  },
  {
   "cell_type": "markdown",
   "metadata": {},
   "source": [
    "When examining total arrivals per month, we find that there were a total of 46,651 arrivals in December 2007 and 44,334 arrivals in January 2008.\n",
    "\n",
    "It is interesting to note the difference between flights arriving on December 24 and 31 to the average of flights arriving on Mondays in January 2008. On December 24 and 31 LAX had an average of 607 arrivals in comparison to 622 arrivals on average for Mondays in January 2008. When assessing percentages to total arrivals, December 24 and 31 saw an overall lower percentage, between 1% and 3%, compared to Mondays in January, between 2% and 5.6%\n",
    "\n",
    "For flights with arrival delays, we only see a slight difference between the two periods. Our airports reported a low average of delays on Mondays in January between 0.4% and 1.55% to the total flight delays during January 2008. In contrast, December 24 and December 31 had flight arrival delays representing between 1% and 2% of total arrival delays for that month. For LAX this can be expressed as 119 average number of arrival delays for December 24 and 31 and 186 average number of arrival delays for January 2008. \n",
    "\n",
    "When we examine the number of arrival delays and the aggregate of arrival delay minutes for December 24, 25, and 31, we find that LAX on New Years Eve had 109 total arrival delays attributed to NAS_DELAY, yet the reason that caused most delays among our airports on these days was LATE_AIRCRAFT_DELAY. We can also determine that the reason that generated the longest delays on these important holidays in term of minutes was LATE_AIRCRAFT_DELAY for all airports except for SEA on Christmas Eve and LAX on New Year's Eve, whose longest delay in minutes was due to NAS_DELAY. "
   ]
  },
  {
   "cell_type": "markdown",
   "metadata": {},
   "source": [
    "**Departures and Departure Delays December 24, 31 VS Mondays in January**"
   ]
  },
  {
   "cell_type": "code",
   "execution_count": 48,
   "metadata": {},
   "outputs": [
    {
     "data": {
      "text/markdown": [
       "In December 2007, the total Departures are **46660**"
      ],
      "text/plain": [
       "<IPython.core.display.Markdown object>"
      ]
     },
     "metadata": {},
     "output_type": "display_data"
    },
    {
     "name": "stdout",
     "output_type": "stream",
     "text": [
      "Total departures for December 24 and 31 for each airport:\n",
      "+------+----+----+-----------------+-------------------+\n",
      "|ORIGIN|  24|  31|AverageDepartures|DeparturePercentage|\n",
      "+------+----+----+-----------------+-------------------+\n",
      "|   LAX|1214|1227|           1221.0|                5.0|\n",
      "|   JFK| 674| 679|            677.0|                3.0|\n",
      "|   SEA| 551| 559|            555.0|                2.0|\n",
      "|   IAD| 429| 435|            432.0|                2.0|\n",
      "+------+----+----+-----------------+-------------------+\n",
      "\n",
      "Total departure delays for December 24 and 31 for each airport:\n",
      "+------+---+---+----------------------+------------------------+\n",
      "|ORIGIN| 24| 31|AverageDepartureDelays|DepartureDelayPercentage|\n",
      "+------+---+---+----------------------+------------------------+\n",
      "|   LAX|296|249|                 273.0|                     4.0|\n",
      "|   JFK|160|108|                 134.0|                     2.0|\n",
      "|   SEA| 77|144|                 111.0|                     1.0|\n",
      "|   IAD| 96| 94|                  95.0|                     1.0|\n",
      "+------+---+---+----------------------+------------------------+\n",
      "\n"
     ]
    },
    {
     "data": {
      "text/markdown": [
       "In January 2008, the total Departures are **44297**"
      ],
      "text/plain": [
       "<IPython.core.display.Markdown object>"
      ]
     },
     "metadata": {},
     "output_type": "display_data"
    },
    {
     "name": "stdout",
     "output_type": "stream",
     "text": [
      "Average flights departures for Mondays in January 2008:\n",
      "+------+-----+-----------------+-------------+\n",
      "|ORIGIN|count|AverageDepartures|DepPercentage|\n",
      "+------+-----+-----------------+-------------+\n",
      "|   LAX| 2476|            619.0|         5.59|\n",
      "|   JFK| 1311|            328.0|         2.96|\n",
      "|   SEA| 1115|            279.0|         2.52|\n",
      "|   IAD|  891|            223.0|         2.01|\n",
      "+------+-----+-----------------+-------------+\n",
      "\n",
      "Average departures delays for Mondays in January 2008:\n",
      "+------+-----+---------------------+-----------------+\n",
      "|ORIGIN|count|AverageLateDepartures|LateDepPercentage|\n",
      "+------+-----+---------------------+-----------------+\n",
      "|   LAX|  648|                162.0|             1.62|\n",
      "|   SEA|  265|                 66.0|             0.66|\n",
      "|   JFK|  207|                 52.0|             0.52|\n",
      "|   IAD|  166|                 42.0|             0.42|\n",
      "+------+-----+---------------------+-----------------+\n",
      "\n"
     ]
    }
   ],
   "source": [
    "display(Markdown (\"In December 2007, the total Departures are **%d**\" %Departures2007.count()))\n",
    "\n",
    "print(\"Total departures for December 24 and 31 for each airport:\")\n",
    "Departures.select(\"YEAR\",\"DAY_OF_MONTH\",\"ORIGIN\")\\\n",
    "        .filter(\"DAY_OF_MONTH == 24 or DAY_OF_MONTH == 31\")\\\n",
    "        .groupBy(\"ORIGIN\")\\\n",
    "        .pivot(\"DAY_OF_MONTH\")\\\n",
    "        .count()\\\n",
    "        .withColumn(\"AverageDepartures\", F.round((F.col(\"24\")+F.col(\"31\"))/2,0))\\\n",
    "        .withColumn(\"DeparturePercentage\", F.round((F.col(\"24\")+F.col(\"31\"))/Departures2007.count()*100,0))\\\n",
    "        .sort(F.col(\"AverageDepartures\").desc())\\\n",
    "        .show()\n",
    "\n",
    "print(\"Total departure delays for December 24 and 31 for each airport:\")\n",
    "Departures.select(\"YEAR\",\"DAY_OF_MONTH\",\"ORIGIN\")\\\n",
    "        .filter(\"DEP_DEL15==1\")\\\n",
    "        .filter(\"DAY_OF_MONTH == 24 or DAY_OF_MONTH == 31\")\\\n",
    "        .groupBy(\"ORIGIN\")\\\n",
    "        .pivot(\"DAY_OF_MONTH\")\\\n",
    "        .count()\\\n",
    "        .withColumn(\"AverageDepartureDelays\", F.round((F.col(\"24\")+F.col(\"31\"))/2,0))\\\n",
    "        .withColumn(\"DepartureDelayPercentage\", F.round((F.col(\"24\")+F.col(\"31\"))/ArrDelay2007.count()*100,0))\\\n",
    "        .sort(F.col(\"AverageDepartureDelays\").desc())\\\n",
    "        .show()\n",
    "\n",
    "\n",
    "display(Markdown (\"In January 2008, the total Departures are **%d**\" %Departures2008.count()))\n",
    "\n",
    "print(\"Average flights departures for Mondays in January 2008:\")\n",
    "Departures.filter(\"YEAR==2008\")\\\n",
    "        .filter(\"DAY_OF_WEEK==1\")\\\n",
    "        .select(\"YEAR\",\"ORIGIN\")\\\n",
    "        .sort(\"ORIGIN\", ascending=False)\\\n",
    "        .groupBy(\"ORIGIN\")\\\n",
    "        .count()\\\n",
    "        .withColumn(\"AverageDepartures\", F.round(F.col(\"count\")/weeksJan,0))\\\n",
    "        .withColumn(\"DepPercentage\", F.round(F.col(\"count\")/Departures2008.count()*100,2))\\\n",
    "        .sort(F.col(\"AverageDepartures\").desc())\\\n",
    "        .show()\n",
    "\n",
    "print(\"Average departures delays for Mondays in January 2008:\")\n",
    "Departures.filter(\"YEAR==2008\")\\\n",
    "        .filter(\"DAY_OF_WEEK==1\")\\\n",
    "        .filter(\"DEP_DEL15==1\")\\\n",
    "        .select(\"YEAR\",\"ORIGIN\",\"DEP_DELAY\")\\\n",
    "        .groupBy(\"ORIGIN\")\\\n",
    "        .count()\\\n",
    "        .withColumn(\"AverageLateDepartures\", F.round(F.col(\"count\")/weeksJan,0))\\\n",
    "        .withColumn(\"LateDepPercentage\", F.round(F.col(\"AverageLateDepartures\")/DepDelay2008.count()*100,2))\\\n",
    "        .sort(F.col(\"AverageLateDepartures\").desc())\\\n",
    "        .show()"
   ]
  },
  {
   "cell_type": "markdown",
   "metadata": {},
   "source": [
    "**Departure Delay Count and Cumulative Sum by Reason for Delay at Selected Dates**"
   ]
  },
  {
   "cell_type": "code",
   "execution_count": 54,
   "metadata": {},
   "outputs": [],
   "source": [
    "# Subset the dataframe with origin airports and delay types for the dates under study:\n",
    "airportDelayChr07 = DepDelay2007.select(\"ORIGIN\",\n",
    "                                        \"DAY_OF_MONTH\",\n",
    "                                        \"WEATHER_DELAY\",\n",
    "                                        \"NAS_DELAY\",\n",
    "                                        \"SECURITY_DELAY\",\n",
    "                                        \"LATE_AIRCRAFT_DELAY\")\\\n",
    "                                .where(\"DAY_OF_MONTH==24 OR DAY_OF_MONTH==25 OR DAY_OF_MONTH==31\")\\\n",
    "\n",
    "# Group by destination airports:\n",
    "groupedByAirportDay = airportDelayChr07.groupBy(\"ORIGIN\",\"DAY_OF_MONTH\")"
   ]
  },
  {
   "cell_type": "code",
   "execution_count": 55,
   "metadata": {},
   "outputs": [],
   "source": [
    "# Define the conditions for column selection based on maximum count or maximum cumulative total\n",
    "\n",
    "condCount = \"F.when\" + \\\n",
    "            \".when\".join([\"(F.col('\" + c + \"') == F.col('MAX_COUNT'), '\" + c + \"')\" \\\n",
    "                          for c in airportDelayChr07.columns[1:]])\n",
    "\n",
    "condMins = \"F.when\" + \\\n",
    "           \".when\".join([\"(F.col('\" + c + \"') == F.col('MAX_MINUTES'), '\" + c + \"')\" \\\n",
    "                         for c in airportDelayChr07.columns[1:]])"
   ]
  },
  {
   "cell_type": "code",
   "execution_count": 56,
   "metadata": {},
   "outputs": [
    {
     "name": "stdout",
     "output_type": "stream",
     "text": [
      "Count of departure delay types and maximum count for each airport December 24, 25, 31, 2007:\n",
      "+------+------------+-------------+---------+--------------+-------------------+---------+-------------------+\n",
      "|ORIGIN|DAY_OF_MONTH|WEATHER_DELAY|NAS_DELAY|SECURITY_DELAY|LATE_AIRCRAFT_DELAY|MAX_COUNT|    MAX_COUNT_DELAY|\n",
      "+------+------------+-------------+---------+--------------+-------------------+---------+-------------------+\n",
      "|   IAD|          24|            0|        7|             2|                 13|       13|LATE_AIRCRAFT_DELAY|\n",
      "|   IAD|          25|            0|       10|             0|                 14|       14|LATE_AIRCRAFT_DELAY|\n",
      "|   IAD|          31|            2|       18|             0|                 13|       18|          NAS_DELAY|\n",
      "|   JFK|          24|            2|       28|             0|                 40|       40|LATE_AIRCRAFT_DELAY|\n",
      "|   JFK|          25|            0|        8|             0|                 14|       14|LATE_AIRCRAFT_DELAY|\n",
      "|   JFK|          31|            3|       28|             1|                 25|       28|          NAS_DELAY|\n",
      "|   LAX|          24|            1|       31|             4|                 44|       44|LATE_AIRCRAFT_DELAY|\n",
      "|   LAX|          25|            1|       46|             1|                 55|       55|LATE_AIRCRAFT_DELAY|\n",
      "|   LAX|          31|            1|       32|             0|                 44|       44|LATE_AIRCRAFT_DELAY|\n",
      "|   SEA|          24|            1|        4|             0|                  7|        7|LATE_AIRCRAFT_DELAY|\n",
      "|   SEA|          25|            9|       25|             1|                 27|       27|LATE_AIRCRAFT_DELAY|\n",
      "|   SEA|          31|            1|       20|             0|                 42|       42|LATE_AIRCRAFT_DELAY|\n",
      "+------+------------+-------------+---------+--------------+-------------------+---------+-------------------+\n",
      "\n",
      "Sum of departure delay minutes per type for each airport December 24, 25, 31, 2007:\n",
      "+------+------------+-------------+---------+--------------+-------------------+-----------+-------------------+\n",
      "|ORIGIN|DAY_OF_MONTH|WEATHER_DELAY|NAS_DELAY|SECURITY_DELAY|LATE_AIRCRAFT_DELAY|MAX_MINUTES|  MAX_MINUTES_DELAY|\n",
      "+------+------------+-------------+---------+--------------+-------------------+-----------+-------------------+\n",
      "|   IAD|          24|          0.0|     66.0|          45.0|              970.0|      970.0|LATE_AIRCRAFT_DELAY|\n",
      "|   IAD|          25|          0.0|     93.0|           0.0|              584.0|      584.0|LATE_AIRCRAFT_DELAY|\n",
      "|   IAD|          31|         88.0|    198.0|           0.0|              816.0|      816.0|LATE_AIRCRAFT_DELAY|\n",
      "|   JFK|          24|        153.0|    237.0|           0.0|             1932.0|     1932.0|LATE_AIRCRAFT_DELAY|\n",
      "|   JFK|          25|          0.0|    137.0|           0.0|              613.0|      613.0|LATE_AIRCRAFT_DELAY|\n",
      "|   JFK|          31|        120.0|    570.0|          73.0|             1000.0|     1000.0|LATE_AIRCRAFT_DELAY|\n",
      "|   LAX|          24|          9.0|    325.0|          36.0|             2010.0|     2010.0|LATE_AIRCRAFT_DELAY|\n",
      "|   LAX|          25|         52.0|    741.0|          45.0|             3176.0|     3176.0|LATE_AIRCRAFT_DELAY|\n",
      "|   LAX|          31|         29.0|    829.0|           0.0|             1336.0|     1336.0|LATE_AIRCRAFT_DELAY|\n",
      "|   SEA|          24|         24.0|     27.0|           0.0|              358.0|      358.0|LATE_AIRCRAFT_DELAY|\n",
      "|   SEA|          25|        269.0|    378.0|          24.0|             1116.0|     1116.0|LATE_AIRCRAFT_DELAY|\n",
      "|   SEA|          31|         86.0|    742.0|           0.0|             1648.0|     1648.0|LATE_AIRCRAFT_DELAY|\n",
      "+------+------------+-------------+---------+--------------+-------------------+-----------+-------------------+\n",
      "\n"
     ]
    }
   ],
   "source": [
    "agg_byCount = groupedByAirportDay.agg(*[F.count(F.when(airportDelayChr07[c] != 0, c)).alias(c) \\\n",
    "                                        for c in airportDelayChr07.columns[2:]])\n",
    "print(\"Count of departure delay types and maximum count for each airport December 24, 25, 31, 2007:\")\n",
    "agg_byCount.withColumn(\"MAX_COUNT\", F.greatest(*agg_byCount.columns[2:]))\\\n",
    "           .withColumn(\"MAX_COUNT_DELAY\", eval(condCount))\\\n",
    "           .orderBy([\"ORIGIN\",\"DAY_OF_MONTH\"],ascending = [True, True])\\\n",
    "           .show()\n",
    "\n",
    "agg_byMins = groupedByAirportDay.agg(*[F.sum(airportDelayChr07[c]).alias(c) \\\n",
    "                                    for c in airportDelayChr07.columns[2:]])\n",
    "print(\"Sum of departure delay minutes per type for each airport December 24, 25, 31, 2007:\")\n",
    "agg_byMins.withColumn(\"MAX_MINUTES\", F.greatest(*agg_byMins.columns[2:]))\\\n",
    "          .withColumn(\"MAX_MINUTES_DELAY\", eval(condMins))\\\n",
    "          .orderBy([\"ORIGIN\",\"DAY_OF_MONTH\"],ascending = [True, True])\\\n",
    "          .show()"
   ]
  },
  {
   "cell_type": "markdown",
   "metadata": {},
   "source": [
    "There were 44,297 total departures in January 2008, and total 46,660 departures in December 2007. \n",
    "\n",
    "In percentage terms, we see the flights on December 24 and 31 represent basically the same as the average of Mondays in January, between 2% and 5%. We do see a large difference in departures on December 24 and 31 for LAX, where on the stated holidays the average number of flights is 1,221 whereas the average for LAX on Mondays in January is 619. \n",
    "\n",
    "For departure delays, we can determine that December 24 and 31 see a significant higher number and percentage of flight departure delays, between 1% and 4%. As an example, LAX had 273 departure delays (4%) on Christmas Eve and New Year's Eve compared to 162 delays (1.62%) for Mondays in January 2008. \n",
    "\n",
    "When looking at the reason for departure delays in count and as an aggregate of delay in minutes, we see LATE_AIRCRAFT_DELAY is the top reason for departure delay and the reason that causes the longest delays in minutes. The only exception is for IAD and JFK who on New Year's Eve had more delays caused by NAS_DELAY, but for these airports on that day, the longest delay in minutes was LATE_AIRCRAFT_DELAY."
   ]
  },
  {
   "cell_type": "markdown",
   "metadata": {},
   "source": [
    "***\n",
    "\n",
    "## December 25 and January 1st\n",
    "\n",
    "Following the previous analysis, we will examine the difference in travel trends one day later: Christmas Day and New Year's Day. These holidays fell on a Tuesday, January had 5 Tuesdays.\n"
   ]
  },
  {
   "cell_type": "code",
   "execution_count": 57,
   "metadata": {},
   "outputs": [
    {
     "name": "stdout",
     "output_type": "stream",
     "text": [
      "What day of the week did Christmas Day 2007 and New Years Day 2008 fall on?\n",
      "+-----------+\n",
      "|DAY_OF_WEEK|\n",
      "+-----------+\n",
      "|          2|\n",
      "+-----------+\n",
      "only showing top 1 row\n",
      "\n",
      "December 25, 2007 and January 1, 2008 fell on the 2nd day of the week, Tuesday.\n"
     ]
    }
   ],
   "source": [
    "print(\"What day of the week did Christmas Day 2007 and New Years Day 2008 fall on?\")\n",
    "flights\\\n",
    "    .filter(\"(YEAR==2007 and DAY_OF_MONTH==25) or (YEAR==2008 and DAY_OF_MONTH==1)\")\\\n",
    "    .select(\"DAY_OF_WEEK\")\\\n",
    "    .show(1)\n",
    "\n",
    "\n",
    "print(\"December 25, 2007 and January 1, 2008 fell on the 2nd day of the week, Tuesday.\")"
   ]
  },
  {
   "cell_type": "code",
   "execution_count": 59,
   "metadata": {},
   "outputs": [
    {
     "name": "stdout",
     "output_type": "stream",
     "text": [
      "Let's see how many Tuesdays are in January 2008:\n",
      "+------------+\n",
      "|DAY_OF_MONTH|\n",
      "+------------+\n",
      "|          22|\n",
      "|           1|\n",
      "|          15|\n",
      "|           8|\n",
      "|          29|\n",
      "+------------+\n",
      "\n"
     ]
    },
    {
     "data": {
      "text/markdown": [
       "There are **5** Tuesdays in January 2008."
      ],
      "text/plain": [
       "<IPython.core.display.Markdown object>"
      ]
     },
     "metadata": {},
     "output_type": "display_data"
    }
   ],
   "source": [
    "print(\"Let's see how many Tuesdays are in January 2008:\")\n",
    "flights.filter(\"YEAR==2008 and DAY_OF_WEEK==2\").select(\"DAY_OF_MONTH\").distinct().show()\n",
    "weeksJanTue = flights.filter(\"YEAR==2008 and DAY_OF_WEEK==2\").select(\"DAY_OF_MONTH\").distinct().count()\n",
    "\n",
    "display(Markdown(\"There are **%d** Tuesdays in January 2008.\" % weeksJanTue))"
   ]
  },
  {
   "cell_type": "markdown",
   "metadata": {},
   "source": [
    "**Arrivals and Arrival Delays December 25 and January 1 VS Tuesdays in January**"
   ]
  },
  {
   "cell_type": "code",
   "execution_count": 60,
   "metadata": {},
   "outputs": [
    {
     "data": {
      "text/markdown": [
       "In December 2007, the total Arrivals are **46651**"
      ],
      "text/plain": [
       "<IPython.core.display.Markdown object>"
      ]
     },
     "metadata": {},
     "output_type": "display_data"
    },
    {
     "name": "stdout",
     "output_type": "stream",
     "text": [
      "Total arrivals for December 25th and January 1st for each airport:\n",
      "+----+---+---+---------------+-----------------+\n",
      "|DEST|  1| 25|AverageArrivals|ArrivalPercentage|\n",
      "+----+---+---+---------------+-----------------+\n",
      "| LAX|646|615|          631.0|              3.0|\n",
      "| JFK|347|339|          343.0|              1.0|\n",
      "| SEA|288|270|          279.0|              1.0|\n",
      "| IAD|219|200|          210.0|              1.0|\n",
      "+----+---+---+---------------+-----------------+\n",
      "\n",
      "Total arrival delays for December 25 and 31 for each airport:\n",
      "+----+---+---+--------------------+----------------------+\n",
      "|DEST|  1| 25|AverageArrivalDelays|ArrivalDelayPercentage|\n",
      "+----+---+---+--------------------+----------------------+\n",
      "| LAX|190|126|               158.0|                   2.0|\n",
      "| JFK|118| 46|                82.0|                   1.0|\n",
      "| SEA| 83| 67|                75.0|                   1.0|\n",
      "| IAD| 72| 42|                57.0|                   1.0|\n",
      "+----+---+---+--------------------+----------------------+\n",
      "\n"
     ]
    },
    {
     "data": {
      "text/markdown": [
       "In January 2008, the total Arrivals are **44334**"
      ],
      "text/plain": [
       "<IPython.core.display.Markdown object>"
      ]
     },
     "metadata": {},
     "output_type": "display_data"
    },
    {
     "name": "stdout",
     "output_type": "stream",
     "text": [
      "Average flight arrivals on Tuesdays in January 2008:\n",
      "+----+-----+---------------+-------------+\n",
      "|DEST|count|AverageArrivals|ArrPercentage|\n",
      "+----+-----+---------------+-------------+\n",
      "| LAX| 3087|          617.0|         6.96|\n",
      "| JFK| 1578|          316.0|         3.56|\n",
      "| SEA| 1382|          276.0|         3.12|\n",
      "| IAD| 1093|          219.0|         2.47|\n",
      "+----+-----+---------------+-------------+\n",
      "\n",
      "Average arrival delays on Tuesdays in January 2008:\n",
      "+----+-----+-------------------+-----------------+\n",
      "|DEST|count|AverageLateArrivals|LateArrPercentage|\n",
      "+----+-----+-------------------+-----------------+\n",
      "| LAX|  758|              152.0|             1.27|\n",
      "| JFK|  383|               77.0|             0.64|\n",
      "| SEA|  339|               68.0|             0.57|\n",
      "| IAD|  258|               52.0|             0.43|\n",
      "+----+-----+-------------------+-----------------+\n",
      "\n"
     ]
    }
   ],
   "source": [
    "display(Markdown (\"In December 2007, the total Arrivals are **%d**\" %Arrivals2007.count()))\n",
    "\n",
    "print(\"Total arrivals for December 25th and January 1st for each airport:\")\n",
    "Arrivals.select(\"YEAR\",\"DAY_OF_MONTH\",\"DEST\")\\\n",
    "        .filter(\"(YEAR == 2007 and DAY_OF_MONTH == 25) or (YEAR == 2008 and DAY_OF_MONTH == 1)\")\\\n",
    "        .groupBy(\"DEST\")\\\n",
    "        .pivot(\"DAY_OF_MONTH\")\\\n",
    "        .count()\\\n",
    "        .withColumn(\"AverageArrivals\", F.round((F.col(\"25\")+F.col(\"1\"))/2,0))\\\n",
    "        .withColumn(\"ArrivalPercentage\", F.round((F.col(\"25\")+F.col(\"1\"))/Arrivals2007.count()*100,0))\\\n",
    "        .sort(F.col(\"AverageArrivals\").desc())\\\n",
    "        .show()\n",
    "\n",
    "print(\"Total arrival delays for December 25 and 31 for each airport:\")\n",
    "Arrivals.select(\"YEAR\",\"DAY_OF_MONTH\",\"DEST\")\\\n",
    "        .filter(\"ARR_DEL15==1\")\\\n",
    "        .filter(\"(YEAR == 2007 and DAY_OF_MONTH == 25) or (YEAR == 2008 and DAY_OF_MONTH == 1)\")\\\n",
    "        .groupBy(\"DEST\")\\\n",
    "        .pivot(\"DAY_OF_MONTH\")\\\n",
    "        .count()\\\n",
    "        .withColumn(\"AverageArrivalDelays\", F.round((F.col(\"25\")+F.col(\"1\"))/2,0))\\\n",
    "        .withColumn(\"ArrivalDelayPercentage\", F.round((F.col(\"25\")+F.col(\"1\"))/ArrDelay2007.count()*100,0))\\\n",
    "        .sort(F.col(\"AverageArrivalDelays\").desc())\\\n",
    "        .show()\n",
    "\n",
    "display(Markdown (\"In January 2008, the total Arrivals are **%d**\" %Arrivals2008.count()))\n",
    "\n",
    "print(\"Average flight arrivals on Tuesdays in January 2008:\")\n",
    "Arrivals.filter(\"YEAR==2008\")\\\n",
    "        .filter(\"DAY_OF_WEEK==2\")\\\n",
    "        .select(\"YEAR\",\"DEST\")\\\n",
    "        .sort(\"DEST\", ascending=False)\\\n",
    "        .groupBy(\"DEST\")\\\n",
    "        .count()\\\n",
    "        .withColumn(\"AverageArrivals\", F.round(F.col(\"count\")/weeksJanTue,0))\\\n",
    "        .withColumn(\"ArrPercentage\", F.round(F.col(\"count\")/Arrivals2008.count()*100,2))\\\n",
    "        .sort(F.col(\"AverageArrivals\").desc())\\\n",
    "        .show()\n",
    "\n",
    "print(\"Average arrival delays on Tuesdays in January 2008:\")\n",
    "Arrivals.filter(\"YEAR==2008\")\\\n",
    "        .filter(\"DAY_OF_WEEK==2\")\\\n",
    "        .filter(\"ARR_DEL15==1\")\\\n",
    "        .select(\"YEAR\",\"DEST\",\"ARR_DELAY\")\\\n",
    "        .groupBy(\"DEST\")\\\n",
    "        .count()\\\n",
    "        .withColumn(\"AverageLateArrivals\", F.round(F.col(\"count\")/weeksJanTue,0))\\\n",
    "        .withColumn(\"LateArrPercentage\", F.round(F.col(\"AverageLateArrivals\")/ArrDelay2008.count()*100,2))\\\n",
    "        .sort(F.col(\"AverageLateArrivals\").desc())\\\n",
    "        .show()\n"
   ]
  },
  {
   "cell_type": "markdown",
   "metadata": {},
   "source": [
    "The average arrivals for December 31, 2007 and January 1, 2008 range between 1% and 3%, whilst the average for Tuedays in January ranges between 2.5% and 7%. However, when we look at LAX, December 25 and January 1st saw an average of 631 flight arrivals compared to an average of 617 for Tuesdays in January 2008. The other aiports have minimal differences in the average number of flights for the period of this analysis.\n",
    "\n",
    "For flights with arrival delays, our airports reported a similar average of delays on Tuesdays than our previous calculation of Mondays in January, reporting between 0.43% and 1.3% of flight delays. In comparison to December 25 and January 1, we only see an increase between 1% and 2% for those days. In terms of average number of flights, even LAX only sees a difference between December 25 and January 1 and the average of Tuesdays in January to be 158 and 152 respectively. "
   ]
  },
  {
   "cell_type": "markdown",
   "metadata": {},
   "source": [
    "**Departures and Departure Delays December 25, January 1 VS Tuesdays in January**"
   ]
  },
  {
   "cell_type": "code",
   "execution_count": 61,
   "metadata": {},
   "outputs": [
    {
     "name": "stdout",
     "output_type": "stream",
     "text": [
      "Total departures for December 25 and January 1 for each airport are:\n",
      "+------+---+---+-----------------+-------------------+\n",
      "|ORIGIN|  1| 25|AverageDepartures|DeparturePercentage|\n",
      "+------+---+---+-----------------+-------------------+\n",
      "|   LAX|646|624|            635.0|                3.0|\n",
      "|   JFK|346|340|            343.0|                1.0|\n",
      "|   SEA|293|272|            283.0|                1.0|\n",
      "|   IAD|216|203|            210.0|                1.0|\n",
      "+------+---+---+-----------------+-------------------+\n",
      "\n",
      "Total departure delays for December 25 and January 1 for each airport are:\n",
      "+------+---+---+----------------------+------------------------+\n",
      "|ORIGIN|  1| 25|AverageDepartureDelays|DepartureDelayPercentage|\n",
      "+------+---+---+----------------------+------------------------+\n",
      "|   LAX|156|119|                 138.0|                     2.0|\n",
      "|   JFK|120| 44|                  82.0|                     1.0|\n",
      "|   SEA| 64| 65|                  65.0|                     1.0|\n",
      "|   IAD| 66| 43|                  55.0|                     1.0|\n",
      "+------+---+---+----------------------+------------------------+\n",
      "\n",
      "Average departures from our airports on Tuesdays in January 2008:\n",
      "+------+-----+-----------------+-------------+\n",
      "|ORIGIN|count|AverageDepartures|DepPercentage|\n",
      "+------+-----+-----------------+-------------+\n",
      "|   LAX| 3092|            618.0|         6.98|\n",
      "|   JFK| 1573|            315.0|         3.55|\n",
      "|   SEA| 1386|            277.0|         3.13|\n",
      "|   IAD| 1090|            218.0|         2.46|\n",
      "+------+-----+-----------------+-------------+\n",
      "\n",
      "Average departure delays on Tuesdays in January:\n",
      "+------+-----+---------------------+-----------------+\n",
      "|ORIGIN|count|AverageLateDepartures|LateDepPercentage|\n",
      "+------+-----+---------------------+-----------------+\n",
      "|   LAX|  625|                125.0|             1.25|\n",
      "|   JFK|  300|                 60.0|              0.6|\n",
      "|   SEA|  294|                 59.0|             0.59|\n",
      "|   IAD|  207|                 41.0|             0.41|\n",
      "+------+-----+---------------------+-----------------+\n",
      "\n"
     ]
    }
   ],
   "source": [
    "print(\"Total departures for December 25 and January 1 for each airport are:\")\n",
    "Departures.select(\"YEAR\",\"DAY_OF_MONTH\",\"ORIGIN\")\\\n",
    "        .filter(\"(YEAR == 2007 and DAY_OF_MONTH == 25) or (YEAR == 2008 and DAY_OF_MONTH == 1)\")\\\n",
    "        .groupBy(\"ORIGIN\")\\\n",
    "        .pivot(\"DAY_OF_MONTH\")\\\n",
    "        .count()\\\n",
    "        .withColumn(\"AverageDepartures\", F.round((F.col(\"25\")+F.col(\"1\"))/2,0))\\\n",
    "        .withColumn(\"DeparturePercentage\", F.round((F.col(\"25\")+F.col(\"1\"))/Departures2007.count()*100,0))\\\n",
    "        .sort(F.col(\"AverageDepartures\").desc())\\\n",
    "        .show()\n",
    "\n",
    "print(\"Total departure delays for December 25 and January 1 for each airport are:\")\n",
    "Departures.select(\"YEAR\",\"DAY_OF_MONTH\",\"ORIGIN\")\\\n",
    "        .filter(\"DEP_DEL15==1\")\\\n",
    "        .filter(\"(YEAR == 2007 and DAY_OF_MONTH == 25) or (YEAR == 2008 and DAY_OF_MONTH == 1)\")\\\n",
    "        .groupBy(\"ORIGIN\")\\\n",
    "        .pivot(\"DAY_OF_MONTH\")\\\n",
    "        .count()\\\n",
    "        .withColumn(\"AverageDepartureDelays\", F.round((F.col(\"25\")+F.col(\"1\"))/2,0))\\\n",
    "        .withColumn(\"DepartureDelayPercentage\", F.round((F.col(\"25\")+F.col(\"1\"))/ArrDelay2007.count()*100,0))\\\n",
    "        .sort(F.col(\"AverageDepartureDelays\").desc())\\\n",
    "        .show()\n",
    "\n",
    "\n",
    "print(\"Average departures from our airports on Tuesdays in January 2008:\")\n",
    "Departures.filter(\"YEAR==2008\")\\\n",
    "        .filter(\"DAY_OF_WEEK==2\")\\\n",
    "        .select(\"YEAR\",\"ORIGIN\")\\\n",
    "        .sort(\"ORIGIN\", ascending=False)\\\n",
    "        .groupBy(\"ORIGIN\")\\\n",
    "        .count()\\\n",
    "        .withColumn(\"AverageDepartures\", F.round(F.col(\"count\")/weeksJanTue,0))\\\n",
    "        .withColumn(\"DepPercentage\", F.round(F.col(\"count\")/Departures2008.count()*100,2))\\\n",
    "        .sort(F.col(\"AverageDepartures\").desc())\\\n",
    "        .show()\n",
    "\n",
    "print(\"Average departure delays on Tuesdays in January:\")\n",
    "Departures.filter(\"YEAR==2008\")\\\n",
    "        .filter(\"DAY_OF_WEEK==2\")\\\n",
    "        .filter(\"DEP_DEL15==1\")\\\n",
    "        .select(\"YEAR\",\"ORIGIN\",\"DEP_DELAY\")\\\n",
    "        .groupBy(\"ORIGIN\")\\\n",
    "        .count()\\\n",
    "        .withColumn(\"AverageLateDepartures\", F.round(F.col(\"count\")/weeksJanTue,0))\\\n",
    "        .withColumn(\"LateDepPercentage\", F.round(F.col(\"AverageLateDepartures\")/DepDelay2008.count()*100,2))\\\n",
    "        .sort(F.col(\"AverageLateDepartures\").desc())\\\n",
    "        .show()"
   ]
  },
  {
   "cell_type": "markdown",
   "metadata": {},
   "source": [
    "On average, LAX had close to 617 arrivals each Tuesday in January 2008. This represents close to 7% of total arrivals for the month of January. The airport with the lowest volume of travelers, IAD, only had an average of 219 arrivals each Monday of January 2008, representing 2.5% of all flight arrivals for the month. \n",
    "\n",
    "For flights with arrival delays, our airports reported a similar average of delays on Tuesdays than our previous calculation of Mondays in January, reporting between 0.43% and 1.3% of total flight delays during the month. \n",
    "\n",
    "Departures follow a similar trend as arrivals. On average, we see on average between 2.5% and 7% of departures taking place on Tuesdays in January 2008, slightly higher than our calculation for Mondays. This represents for LAX, the airport with most traffic, an average of 618 departures each Tuesday of the month. \n",
    "\n",
    "Departure delays from our airports represent between 0.41% and 1.25%, the highest number of delays belonging to LAX with 125 delays on average for Tuesdays in January 2008."
   ]
  },
  {
   "cell_type": "markdown",
   "metadata": {},
   "source": [
    "***\n",
    "\n",
    "## Final Insights"
   ]
  },
  {
   "cell_type": "markdown",
   "metadata": {},
   "source": [
    "When examining our analysis of arrival and departure differences between December 2007 and January 2008, we find a large difference in overall flight volume between both months. In particular, when looking at arrival delays and departure delays, we can clearly see a spike in number and percentages of delays due to the increase in the number of travelers passing through our airports during the holiday season. It is also important to note that, while LAX sees more flights than the other 3 airports in out analysis, JFK experiences the highest percentage change in general travel patterns. \n",
    "\n",
    "One of the key insights that we take from this analysis is that the busiest travel dates are not the major holidays: Christmas Eve, Christmas Day, New Year's Eve and New Year's Day. The highest volume of inbound and outbound flights occurs in the days preceeding these holidays, between December 18 - 22. Another important consideration is that January 2008, which in our analysis serves as our baseline month for comparing December 2007, also experiences an inflated number of travelers returning home after the holidays in the first days of the month.\n",
    "\n",
    "When we examine the difference between December 24 and 31 and the average of Mondays in January 2008, we find minimal differences in arrivals, arrival delays, and departures. LAX is the airport with highest average difference between the two periods, with 607 arrivals in average for December 24 and December 31 against 622 average arrivals on Mondays in January 2008. The reported average departures for LAX during the same period is 1,221 and 619, showing that December 24 and 31 had double the average volume of flights departing when compared to the average of Monday flights in January 2008. On average, departure delays were also significant for LAX with an average of 273 delays for December 24 and 31 against and average of 162 for Mondays in January 2008. \n",
    "\n",
    "When we examine the difference one day later, between December 25 and January 1 and the average of Tuesdays in January 2008, we also find minimal differences in average arrivals, arrival delays, departures and departure delays. While LAX shows minimal differeces in average arrivals and arrival delays for the two periods in study, it shows higher average departures in December 25 and January 1 (635) against Tuesdays in January (618).  \n",
    "\n",
    "When we examine the reasons for flight delays we found that, in general there are more delays and longer delays in minutes for both arrivals and departures in December 2007 than in January 2008. While the overwhelming reason for long delay in minutes in our analysis is LATE_AIRCRAFT_DELAY, we find that NAS_DELAY is a pressing reason as far as number of delays for many airports and dates in our analysis, but usually NAS_DELAYS are shorter in duration than LATE_AIRCRAFT_DELAY. "
   ]
  }
 ],
 "metadata": {
  "kernelspec": {
   "display_name": "Python 3",
   "language": "python",
   "name": "python3"
  },
  "language_info": {
   "codemirror_mode": {
    "name": "ipython",
    "version": 3
   },
   "file_extension": ".py",
   "mimetype": "text/x-python",
   "name": "python",
   "nbconvert_exporter": "python",
   "pygments_lexer": "ipython3",
   "version": "3.7.3"
  }
 },
 "nbformat": 4,
 "nbformat_minor": 2
}
